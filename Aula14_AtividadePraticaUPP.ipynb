{
 "cells": [
  {
   "cell_type": "code",
   "execution_count": null,
   "id": "28361be1",
   "metadata": {},
   "outputs": [],
   "source": [
    "#Importação das bibliotecas\n",
    "import pandas as pd\n",
    "import numpy as np"
   ]
  },
  {
   "cell_type": "code",
   "execution_count": 2,
   "id": "de9cb2cb",
   "metadata": {},
   "outputs": [
    {
     "data": {
      "text/html": [
       "<div>\n",
       "<style scoped>\n",
       "    .dataframe tbody tr th:only-of-type {\n",
       "        vertical-align: middle;\n",
       "    }\n",
       "\n",
       "    .dataframe tbody tr th {\n",
       "        vertical-align: top;\n",
       "    }\n",
       "\n",
       "    .dataframe thead th {\n",
       "        text-align: right;\n",
       "    }\n",
       "</style>\n",
       "<table border=\"1\" class=\"dataframe\">\n",
       "  <thead>\n",
       "    <tr style=\"text-align: right;\">\n",
       "      <th></th>\n",
       "      <th>cisp</th>\n",
       "      <th>mes</th>\n",
       "      <th>ano</th>\n",
       "      <th>mes_ano</th>\n",
       "      <th>aisp</th>\n",
       "      <th>risp</th>\n",
       "      <th>munic</th>\n",
       "      <th>mcirc</th>\n",
       "      <th>regiao</th>\n",
       "      <th>hom_doloso</th>\n",
       "      <th>...</th>\n",
       "      <th>cmp</th>\n",
       "      <th>cmba</th>\n",
       "      <th>ameaca</th>\n",
       "      <th>pessoas_desaparecidas</th>\n",
       "      <th>encontro_cadaver</th>\n",
       "      <th>encontro_ossada</th>\n",
       "      <th>pol_militares_mortos_serv</th>\n",
       "      <th>pol_civis_mortos_serv</th>\n",
       "      <th>registro_ocorrencias</th>\n",
       "      <th>fase</th>\n",
       "    </tr>\n",
       "  </thead>\n",
       "  <tbody>\n",
       "    <tr>\n",
       "      <th>0</th>\n",
       "      <td>1</td>\n",
       "      <td>1</td>\n",
       "      <td>2003</td>\n",
       "      <td>2003m01</td>\n",
       "      <td>5</td>\n",
       "      <td>1</td>\n",
       "      <td>Rio de Janeiro</td>\n",
       "      <td>3304557</td>\n",
       "      <td>Capital</td>\n",
       "      <td>0</td>\n",
       "      <td>...</td>\n",
       "      <td>NaN</td>\n",
       "      <td>NaN</td>\n",
       "      <td>21</td>\n",
       "      <td>2</td>\n",
       "      <td>0</td>\n",
       "      <td>0</td>\n",
       "      <td>0</td>\n",
       "      <td>0</td>\n",
       "      <td>578</td>\n",
       "      <td>3</td>\n",
       "    </tr>\n",
       "    <tr>\n",
       "      <th>1</th>\n",
       "      <td>4</td>\n",
       "      <td>1</td>\n",
       "      <td>2003</td>\n",
       "      <td>2003m01</td>\n",
       "      <td>5</td>\n",
       "      <td>1</td>\n",
       "      <td>Rio de Janeiro</td>\n",
       "      <td>3304557</td>\n",
       "      <td>Capital</td>\n",
       "      <td>3</td>\n",
       "      <td>...</td>\n",
       "      <td>NaN</td>\n",
       "      <td>NaN</td>\n",
       "      <td>15</td>\n",
       "      <td>6</td>\n",
       "      <td>0</td>\n",
       "      <td>1</td>\n",
       "      <td>0</td>\n",
       "      <td>0</td>\n",
       "      <td>441</td>\n",
       "      <td>3</td>\n",
       "    </tr>\n",
       "  </tbody>\n",
       "</table>\n",
       "<p>2 rows × 63 columns</p>\n",
       "</div>"
      ],
      "text/plain": [
       "   cisp  mes   ano  mes_ano  aisp  risp           munic    mcirc   regiao  \\\n",
       "0     1    1  2003  2003m01     5     1  Rio de Janeiro  3304557  Capital   \n",
       "1     4    1  2003  2003m01     5     1  Rio de Janeiro  3304557  Capital   \n",
       "\n",
       "   hom_doloso  ...  cmp  cmba  ameaca  pessoas_desaparecidas  \\\n",
       "0           0  ...  NaN   NaN      21                      2   \n",
       "1           3  ...  NaN   NaN      15                      6   \n",
       "\n",
       "   encontro_cadaver  encontro_ossada  pol_militares_mortos_serv  \\\n",
       "0                 0                0                          0   \n",
       "1                 0                1                          0   \n",
       "\n",
       "   pol_civis_mortos_serv  registro_ocorrencias  fase  \n",
       "0                      0                   578     3  \n",
       "1                      0                   441     3  \n",
       "\n",
       "[2 rows x 63 columns]"
      ]
     },
     "execution_count": 2,
     "metadata": {},
     "output_type": "execute_result"
    }
   ],
   "source": [
    "#Importa os dados do arquivo CSV e monta o DataFrame com a Base de Dados\n",
    "#Estatísticas de segurança: série histórica mensal por área de Unidade de Polícia Pacificadora (01/2007 a 06/2021)\n",
    "#dfBD = pd.read_csv(\"https://www.ispdados.rj.gov.br/Arquivos/UppEvolucaoMensalDeTitulos.csv\", delimiter=\";\", encoding=\"latin1\")\n",
    "\n",
    "#OBS: Na base de dados das UPPs não achei a informação de apreensão de menores, por esse motivo vou usar a base de delegacias\n",
    "\n",
    "#Estatísticas de segurança: série histórica mensal por área de delegacia desde 01/2003\n",
    "dfBD = pd.read_csv(\"https://www.ispdados.rj.gov.br/Arquivos/BaseDPEvolucaoMensalCisp.csv\", sep= \";\", encoding=\"latin1\")\n",
    "dfBD.head(2)"
   ]
  },
  {
   "cell_type": "code",
   "execution_count": 5,
   "id": "6c3257cd",
   "metadata": {},
   "outputs": [
    {
     "data": {
      "text/html": [
       "<div>\n",
       "<style scoped>\n",
       "    .dataframe tbody tr th:only-of-type {\n",
       "        vertical-align: middle;\n",
       "    }\n",
       "\n",
       "    .dataframe tbody tr th {\n",
       "        vertical-align: top;\n",
       "    }\n",
       "\n",
       "    .dataframe thead th {\n",
       "        text-align: right;\n",
       "    }\n",
       "</style>\n",
       "<table border=\"1\" class=\"dataframe\">\n",
       "  <thead>\n",
       "    <tr style=\"text-align: right;\">\n",
       "      <th></th>\n",
       "      <th>cisp</th>\n",
       "      <th>aaapai</th>\n",
       "    </tr>\n",
       "  </thead>\n",
       "  <tbody>\n",
       "    <tr>\n",
       "      <th>0</th>\n",
       "      <td>1</td>\n",
       "      <td>1191.0</td>\n",
       "    </tr>\n",
       "    <tr>\n",
       "      <th>1</th>\n",
       "      <td>4</td>\n",
       "      <td>1571.0</td>\n",
       "    </tr>\n",
       "  </tbody>\n",
       "</table>\n",
       "</div>"
      ],
      "text/plain": [
       "   cisp  aaapai\n",
       "0     1  1191.0\n",
       "1     4  1571.0"
      ]
     },
     "execution_count": 5,
     "metadata": {},
     "output_type": "execute_result"
    }
   ],
   "source": [
    "#Soma os valores da coluna de apreensão de menores (aaapai) por delegacia (cisp)\n",
    "dfBDApreensaoMenores = dfBD.groupby(\"cisp\")[\"aaapai\"].sum().reset_index()\n",
    "dfBDApreensaoMenores.head(2)\n"
   ]
  },
  {
   "cell_type": "code",
   "execution_count": 6,
   "id": "1d5977c1",
   "metadata": {},
   "outputs": [
    {
     "data": {
      "text/plain": [
       "array([1191., 1571., 2725., 1027.,  286., 1490., 1590.,   67., 3622.,\n",
       "       1725., 3298.,  669., 3046., 1337.,  842., 1078.,  767., 1849.,\n",
       "       1166.,  718.,  326., 1122.,  741.,  710.,  314.,  780.,  500.,\n",
       "        619., 1979.,  856., 2062.,  854.,  596., 1491., 1082., 1337.,\n",
       "        726.,  384.,  668.,  145.,  484.,   66.,  309.,  881.,  366.,\n",
       "       1034., 1218., 2584.,  573., 2260.,  693.,  804., 2660., 1771.,\n",
       "        171., 1631.,  402., 2953.,  789.,  588.,  213.,  154., 1990.,\n",
       "       1257., 1792., 3329.,  790., 1245.,  929., 1383.,  624., 1120.,\n",
       "        664.,  651., 1555., 1161.,  369.,   10., 2195.,  134.,   77.,\n",
       "        162.,   86.,   36.,  331.,  293.,  144.,   26., 1664.,  250.,\n",
       "        247.,  924.,   44., 1541.,   13.,   67.,  885.,  296.,   92.,\n",
       "        295.,  167., 1927.,  299.,  941., 3553.,  527., 1419.,  109.,\n",
       "        259.,  322., 2750.,   87.,  358.,  271.,   28.,   62.,   39.,\n",
       "        193.,   38.,  757.,  307.,  310., 2679.,  280.,   60., 2063.,\n",
       "         30.,   59.,   73.,   16.,   18.,   13.,  106.,  219.,  259.,\n",
       "       1106.,  499.,   44.])"
      ]
     },
     "execution_count": 6,
     "metadata": {},
     "output_type": "execute_result"
    }
   ],
   "source": [
    "#Cria o array com os dados de apreensão de menores\n",
    "arrayApreensaoMenores = np.array(dfBDApreensaoMenores[\"aaapai\"])\n",
    "arrayApreensaoMenores"
   ]
  },
  {
   "cell_type": "code",
   "execution_count": 7,
   "id": "f3f62c78",
   "metadata": {},
   "outputs": [
    {
     "name": "stdout",
     "output_type": "stream",
     "text": [
      "Média     = 875.93\n",
      "Mediana   = 657.50\n",
      "Q1        = 214.50\n",
      "Q2        = 657.50\n",
      "Q3        = 1254.00\n",
      "Distância = 33.22 %\n",
      "Lim. Sup. = 2813.25\n",
      "Lim. Inf. = -1344.75\n"
     ]
    }
   ],
   "source": [
    "#Cálculos estatísticos\n",
    "mediaAPMenores = np.mean(arrayApreensaoMenores)\n",
    "medianaAPMenores = np.median(arrayApreensaoMenores)\n",
    "q1APMenores = np.percentile(arrayApreensaoMenores, 25)\n",
    "q2APMenores = np.percentile(arrayApreensaoMenores, 50)\n",
    "q3APMenores = np.percentile(arrayApreensaoMenores, 75)\n",
    "distanciaAPMenores = (mediaAPMenores - medianaAPMenores) / medianaAPMenores\n",
    "iqrAPMenores = q3APMenores - q1APMenores\n",
    "limSupAPMenores = q3APMenores + (1.5 * iqrAPMenores)\n",
    "limInfAPMenores = q1APMenores - (1.5 * iqrAPMenores)\n",
    "\n",
    "print(f'Média     = {mediaAPMenores:.2f}')\n",
    "print(f'Mediana   = {medianaAPMenores:.2f}')\n",
    "print(f'Q1        = {q1APMenores:.2f}')\n",
    "print(f'Q2        = {q2APMenores:.2f}')\n",
    "print(f'Q3        = {q3APMenores:.2f}')\n",
    "print(f'Distância = {distanciaAPMenores * 100:.2f} %')       #Em percentual\n",
    "print(f'Lim. Sup. = {limSupAPMenores:.2f}')\n",
    "print(f'Lim. Inf. = {limInfAPMenores:.2f}')"
   ]
  },
  {
   "cell_type": "code",
   "execution_count": 9,
   "id": "0604fc66",
   "metadata": {},
   "outputs": [
    {
     "data": {
      "text/html": [
       "<div>\n",
       "<style scoped>\n",
       "    .dataframe tbody tr th:only-of-type {\n",
       "        vertical-align: middle;\n",
       "    }\n",
       "\n",
       "    .dataframe tbody tr th {\n",
       "        vertical-align: top;\n",
       "    }\n",
       "\n",
       "    .dataframe thead th {\n",
       "        text-align: right;\n",
       "    }\n",
       "</style>\n",
       "<table border=\"1\" class=\"dataframe\">\n",
       "  <thead>\n",
       "    <tr style=\"text-align: right;\">\n",
       "      <th></th>\n",
       "      <th>cisp</th>\n",
       "      <th>aaapai</th>\n",
       "    </tr>\n",
       "  </thead>\n",
       "  <tbody>\n",
       "    <tr>\n",
       "      <th>8</th>\n",
       "      <td>12</td>\n",
       "      <td>3622.0</td>\n",
       "    </tr>\n",
       "    <tr>\n",
       "      <th>104</th>\n",
       "      <td>126</td>\n",
       "      <td>3553.0</td>\n",
       "    </tr>\n",
       "    <tr>\n",
       "      <th>65</th>\n",
       "      <td>74</td>\n",
       "      <td>3329.0</td>\n",
       "    </tr>\n",
       "    <tr>\n",
       "      <th>10</th>\n",
       "      <td>14</td>\n",
       "      <td>3298.0</td>\n",
       "    </tr>\n",
       "    <tr>\n",
       "      <th>12</th>\n",
       "      <td>16</td>\n",
       "      <td>3046.0</td>\n",
       "    </tr>\n",
       "    <tr>\n",
       "      <th>57</th>\n",
       "      <td>64</td>\n",
       "      <td>2953.0</td>\n",
       "    </tr>\n",
       "  </tbody>\n",
       "</table>\n",
       "</div>"
      ],
      "text/plain": [
       "     cisp  aaapai\n",
       "8      12  3622.0\n",
       "104   126  3553.0\n",
       "65     74  3329.0\n",
       "10     14  3298.0\n",
       "12     16  3046.0\n",
       "57     64  2953.0"
      ]
     },
     "execution_count": 9,
     "metadata": {},
     "output_type": "execute_result"
    }
   ],
   "source": [
    "#Delegacias que representam os OUTLIERS com MAIOR número de apreensão de adolescentes\n",
    "dpApreensaoMenoresMaiorOutlier = dfBDApreensaoMenores.loc[dfBDApreensaoMenores[\"aaapai\"] >= limSupAPMenores]\n",
    "dpApreensaoMenoresMaiorOutlier.sort_values(by=\"aaapai\", ascending=False)"
   ]
  },
  {
   "cell_type": "code",
   "execution_count": null,
   "id": "4872cf2b",
   "metadata": {},
   "outputs": [],
   "source": [
    "#################################################################################################################\n",
    "#RESPOSTA:\n",
    "#As delegacias acima estão acima do limite superior e são consideradas OUTLIERS em relação a apreensão de menores\n",
    "#################################################################################################################"
   ]
  }
 ],
 "metadata": {
  "kernelspec": {
   "display_name": "Python 3",
   "language": "python",
   "name": "python3"
  },
  "language_info": {
   "codemirror_mode": {
    "name": "ipython",
    "version": 3
   },
   "file_extension": ".py",
   "mimetype": "text/x-python",
   "name": "python",
   "nbconvert_exporter": "python",
   "pygments_lexer": "ipython3",
   "version": "3.13.7"
  }
 },
 "nbformat": 4,
 "nbformat_minor": 5
}
