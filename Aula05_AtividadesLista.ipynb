{
 "cells": [
  {
   "cell_type": "markdown",
   "id": "c87dedf1",
   "metadata": {},
   "source": [
    "### AULA 05 - Atividades Lista"
   ]
  },
  {
   "cell_type": "code",
   "execution_count": 10,
   "id": "bf1673c6",
   "metadata": {},
   "outputs": [
    {
     "name": "stdout",
     "output_type": "stream",
     "text": [
      "Lista de alunos: ['João', 'Maria', 'Florentina', 'Huguinho', 'Minie', 'Batman', 'Robin']\n",
      "Lista de alunos: ['João', 'Maria', 'Mulher Gato', 'Huguinho', 'Minie', 'Batman', 'Robin']\n",
      "Lista de alunos: ['João', 'Maria', 'Mulher Gato', 'Minie', 'Batman', 'Robin']\n",
      "O aluno Batman está na lista? True\n",
      "O aluno Charada está na lista? False\n",
      "Lista em ordem alfabética: ['Batman', 'João', 'Maria', 'Minie', 'Mulher Gato', 'Robin']\n",
      "O aluno Batman está na lista.\n",
      "O aluno Coringa não está na lista.\n"
     ]
    }
   ],
   "source": [
    "#Atividade 01: Cadastro de Alunos com Listas\n",
    "#Crie uma lista chamada 'alunos' com nomes fictícios\n",
    "#Substitua um nome da lista\n",
    "#Remova um aluno da lista\n",
    "#Verifique se um nome está presente na lista\n",
    "#Ordene a lista em ordem alfabética\n",
    "#Desafio: Verifique se um nome está na lista sem usar função\n",
    "\n",
    "#Cria a lista de alunos\n",
    "listaAlunos = ['João','Maria','Florentina','Huguinho','Minie','Batman','Robin']\n",
    "print(f'Lista de alunos: {listaAlunos}')\n",
    "\n",
    "#Substituindo um elemento da lista\n",
    "listaAlunos[2] = 'Mulher Gato'\n",
    "print(f'Lista de alunos: {listaAlunos}')\n",
    "\n",
    "#Removendo um elemento da lista\n",
    "listaAlunos.remove('Huguinho')\n",
    "print(f'Lista de alunos: {listaAlunos}')\n",
    "\n",
    "#Verificando se um nome está na lista\n",
    "print(f'O aluno Batman está na lista? {'Batman' in listaAlunos}')\n",
    "print(f'O aluno Charada está na lista? {'Charada' in listaAlunos}')\n",
    "\n",
    "#Ordenando a lista em ordem alfabética\n",
    "listaAlunos.sort()\n",
    "print(f'Lista em ordem alfabética: {listaAlunos}')\n",
    "\n",
    "#Procurando um nome na lista sem usar uma função\n",
    "achouNaLista = False\n",
    "for i in range(len(listaAlunos)):\n",
    "    if listaAlunos[i].upper().strip() == 'BATMAN':\n",
    "        achouNaLista = True\n",
    "\n",
    "if achouNaLista:\n",
    "    print('O aluno Batman está na lista.')\n",
    "else:\n",
    "    print('O aluno Batman não está na lista.')\n",
    "\n",
    "achouNaLista = False\n",
    "for i in range(len(listaAlunos)):\n",
    "    if listaAlunos[i].upper().strip() == 'CORINGA':\n",
    "        achouNaLista = True\n",
    "\n",
    "if achouNaLista:\n",
    "    print('O aluno Coringa está na lista.')\n",
    "else:\n",
    "    print('O aluno Coringa não está na lista.')\n"
   ]
  },
  {
   "cell_type": "code",
   "execution_count": null,
   "id": "d4eaa040",
   "metadata": {},
   "outputs": [
    {
     "name": "stdout",
     "output_type": "stream",
     "text": [
      "Lista de tarefas: ['Beber água', 'escovar os dentes', 'Ouvir música', 'Tomar café.', 'Ler um livro']\n",
      "Incluindo um item na posição 1: ['Beber água', 'Jogar PS5', 'escovar os dentes', 'Ouvir música', 'Tomar café.', 'Ler um livro']\n",
      "Excluindo o último item: ['Beber água', 'Jogar PS5', 'escovar os dentes', 'Ouvir música', 'Tomar café.']\n",
      "Exibindo as duas primeiras tarefas: ['Beber água', 'Jogar PS5']\n",
      "Lista de tarefas: []\n",
      "Cópia da lista de tarefas: ['Beber água', 'Jogar PS5', 'escovar os dentes', 'Ouvir música', 'Tomar café.']\n"
     ]
    }
   ],
   "source": [
    "#Atividade 02: Lista de Tarefas com Prioridade\n",
    "#Insira uma nova tarefa na posição 1 da lista\n",
    "#Remova a última tarefa da lista\n",
    "#Mostre as duas primeiras tarefas usando slicing\n",
    "#Crie uma cópia da lista e limpe a original\n",
    "\n",
    "#Cria uma lista de tarefas\n",
    "listaTarefas = ['Beber água','escovar os dentes','Ouvir música','Tomar café.','Ler um livro']\n",
    "print(f'Lista de tarefas: {listaTarefas}')\n",
    "\n",
    "#Inserindo uma nova tarefa na posição 1\n",
    "listaTarefas.insert(1,'Jogar PS5')\n",
    "print(f'Incluindo um item na posição 1: {listaTarefas}')\n",
    "\n",
    "#Remove a última tareda da lista\n",
    "listaTarefas.pop(-1)\n",
    "print(f'Excluindo o último item: {listaTarefas}')\n",
    "\n",
    "#Mostrando as duas primeiras tarefas usando slicing\n",
    "print(f'Exibindo as duas primeiras tarefas: {listaTarefas[:2]}')\n",
    "\n",
    "#Criando uma cópia da lista e limpando a original\n",
    "listaTarefasCopia = listaTarefas.copy()\n",
    "listaTarefas.clear()\n",
    "print(f'Lista de tarefas: {listaTarefas}')\n",
    "print(f'Cópia da lista de tarefas: {listaTarefasCopia}')"
   ]
  },
  {
   "cell_type": "code",
   "execution_count": 20,
   "id": "03eedb49",
   "metadata": {},
   "outputs": [
    {
     "name": "stdout",
     "output_type": "stream",
     "text": [
      "Lista de clientes: ['Mário', 'Tatiana', 'José', 'Rebeca']\n",
      "Lista com mais um cliente: ['Mário', 'Tatiana', 'José', 'Rebeca', 'Fernanda']\n",
      "Lista retirando o primeiro cliente: ['Tatiana', 'José', 'Rebeca', 'Fernanda']\n",
      "Segundo cliente da lista: José\n",
      "Lista final de clientes: ['Tatiana', 'José', 'Rebeca', 'Fernanda']\n"
     ]
    }
   ],
   "source": [
    "#Atividade 03: Simulação de Fila de Atendimento\n",
    "#Adicione um novo cliente à fila\n",
    "#Remova o primeiro cliente com pop(0)\n",
    "#Verifique quem é o próximo da fila\n",
    "#Mostre o estado atual da fila\n",
    "\n",
    "#Cria a lista de atendimento de clientes\n",
    "listaClientes = ['Mário','Tatiana','José','Rebeca']\n",
    "print(f'Lista de clientes: {listaClientes}')\n",
    "\n",
    "#Adicionando um novo cliente a lista\n",
    "listaClientes.append('Fernanda')\n",
    "print(f'Lista com mais um cliente: {listaClientes}')\n",
    "\n",
    "#Removendo o primeiro cliente\n",
    "listaClientes.pop(0)\n",
    "print(f'Lista retirando o primeiro cliente: {listaClientes}')\n",
    "\n",
    "#Verifique quem é o próximo da fila\n",
    "print(f'Segundo cliente da lista: {listaClientes[1]}')\n",
    "\n",
    "#Imprime a lista final de clientes\n",
    "print(f'Lista final de clientes: {listaClientes}')"
   ]
  },
  {
   "cell_type": "code",
   "execution_count": 21,
   "id": "1a64c1f1",
   "metadata": {},
   "outputs": [
    {
     "name": "stdout",
     "output_type": "stream",
     "text": [
      "1 x 10 = 10\n",
      "2 x 10 = 20\n",
      "3 x 10 = 30\n",
      "4 x 10 = 40\n",
      "5 x 10 = 50\n"
     ]
    }
   ],
   "source": [
    "#Atividade 04: Multiplicação de Elementos\n",
    "#Crie uma lista com números de 1 a 5\n",
    "#Multiplique cada número por 10 usando um laço for\n",
    "\n",
    "#Cria a lista de números\n",
    "listaNumeros = [1, 2, 3, 4, 5]\n",
    "\n",
    "#Multiplica os números da lista por 10\n",
    "for i in range(len(listaNumeros)):\n",
    "    print(f'{listaNumeros[i]} x 10 = {listaNumeros[i] * 10}')"
   ]
  },
  {
   "cell_type": "code",
   "execution_count": 29,
   "id": "541aa62e",
   "metadata": {},
   "outputs": [
    {
     "name": "stdout",
     "output_type": "stream",
     "text": [
      "O nome Ronaldo Nazário possui 6 vogais.\n",
      "O nome Zagalo possui 3 vogais.\n",
      "O nome Marta possui 2 vogais.\n",
      "O nome Pelé possui 1 vogais.\n",
      "O nome Hortência do Basquete possui 8 vogais.\n",
      "O nome Rivelino possui 4 vogais.\n",
      "O nome Rebeca Andrade possui 6 vogais.\n",
      "Lista de nomes: ['Ronaldo Nazário', 'Zagalo', 'Marta', 'Pelé', 'Hortência do Basquete', 'Rivelino', 'Rebeca Andrade']\n",
      "Lista de nomes com mais de 3 vogais: ['Ronaldo Nazário', 'Hortência do Basquete', 'Rivelino', 'Rebeca Andrade']\n"
     ]
    }
   ],
   "source": [
    "#Atividade 05: Contagem de Vogais em Nomes\n",
    "#Conte quantas vogais há em cada nome de uma lista\n",
    "#Crie uma nova lista com os nomes que têm mais de 3 vogais\n",
    "\n",
    "#Cria a lista de nomes\n",
    "listaNomes = ['Ronaldo Nazário','Zagalo','Marta','Pelé','Hortência do Basquete','Rivelino','Rebeca Andrade']\n",
    "\n",
    "#Cria a lista que vai receber os nomes com mais de três vogais\n",
    "listaNomes3Vogais = []\n",
    "\n",
    "#Percorre a lista de nomes\n",
    "for i in range(len(listaNomes)):\n",
    "\n",
    "    qtdeVogais = 0\n",
    "    nomeAtual = listaNomes[i].upper().strip()\n",
    "\n",
    "    #Percorre os caracteres de cada nome na lista\n",
    "    for j in range(len(nomeAtual)):\n",
    "\n",
    "        #Incrementa a quantidade de vogais se for uma vogal\n",
    "        if nomeAtual[j] == 'A' or nomeAtual[j] == 'E' or nomeAtual[j] == 'I' or nomeAtual[j] == 'O' or nomeAtual[j] == 'U':\n",
    "            qtdeVogais += 1\n",
    "\n",
    "    #Imprime o nome e a sua quantidade de vogais\n",
    "    print(f'O nome {listaNomes[i]} possui {qtdeVogais} vogais.')\n",
    "\n",
    "    #Se o nome tiver mais de três vogais, inclui na lista de nomes com mais de 3 vogais\n",
    "    if qtdeVogais > 3:\n",
    "        listaNomes3Vogais.append(listaNomes[i])\n",
    "\n",
    "print(f'Lista de nomes: {listaNomes}')\n",
    "print(f'Lista de nomes com mais de 3 vogais: {listaNomes3Vogais}')\n"
   ]
  }
 ],
 "metadata": {
  "kernelspec": {
   "display_name": "Python 3",
   "language": "python",
   "name": "python3"
  },
  "language_info": {
   "codemirror_mode": {
    "name": "ipython",
    "version": 3
   },
   "file_extension": ".py",
   "mimetype": "text/x-python",
   "name": "python",
   "nbconvert_exporter": "python",
   "pygments_lexer": "ipython3",
   "version": "3.13.7"
  }
 },
 "nbformat": 4,
 "nbformat_minor": 5
}
