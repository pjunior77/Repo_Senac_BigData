{
 "cells": [
  {
   "cell_type": "markdown",
   "id": "c87dedf1",
   "metadata": {},
   "source": [
    "### AULA 05 - Atividades Lista"
   ]
  },
  {
   "cell_type": "code",
   "execution_count": 10,
   "id": "bf1673c6",
   "metadata": {},
   "outputs": [
    {
     "name": "stdout",
     "output_type": "stream",
     "text": [
      "Lista de alunos: ['João', 'Maria', 'Florentina', 'Huguinho', 'Minie', 'Batman', 'Robin']\n",
      "Lista de alunos: ['João', 'Maria', 'Mulher Gato', 'Huguinho', 'Minie', 'Batman', 'Robin']\n",
      "Lista de alunos: ['João', 'Maria', 'Mulher Gato', 'Minie', 'Batman', 'Robin']\n",
      "O aluno Batman está na lista? True\n",
      "O aluno Charada está na lista? False\n",
      "Lista em ordem alfabética: ['Batman', 'João', 'Maria', 'Minie', 'Mulher Gato', 'Robin']\n",
      "O aluno Batman está na lista.\n",
      "O aluno Coringa não está na lista.\n"
     ]
    }
   ],
   "source": [
    "#Atividade 01: Cadastro de Alunos com Listas\n",
    "#Crie uma lista chamada 'alunos' com nomes fictícios\n",
    "#Substitua um nome da lista\n",
    "#Remova um aluno da lista\n",
    "#Verifique se um nome está presente na lista\n",
    "#Ordene a lista em ordem alfabética\n",
    "#Desafio: Verifique se um nome está na lista sem usar função\n",
    "\n",
    "#Cria a lista de alunos\n",
    "listaAlunos = ['João','Maria','Florentina','Huguinho','Minie','Batman','Robin']\n",
    "print(f'Lista de alunos: {listaAlunos}')\n",
    "\n",
    "#Substituindo um elemento da lista\n",
    "listaAlunos[2] = 'Mulher Gato'\n",
    "print(f'Lista de alunos: {listaAlunos}')\n",
    "\n",
    "#Removendo um elemento da lista\n",
    "listaAlunos.remove('Huguinho')\n",
    "print(f'Lista de alunos: {listaAlunos}')\n",
    "\n",
    "#Verificando se um nome está na lista\n",
    "print(f'O aluno Batman está na lista? {'Batman' in listaAlunos}')\n",
    "print(f'O aluno Charada está na lista? {'Charada' in listaAlunos}')\n",
    "\n",
    "#Ordenando a lista em ordem alfabética\n",
    "listaAlunos.sort()\n",
    "print(f'Lista em ordem alfabética: {listaAlunos}')\n",
    "\n",
    "#Procurando um nome na lista sem usar uma função\n",
    "achouNaLista = False\n",
    "for i in range(len(listaAlunos)):\n",
    "    if listaAlunos[i].upper().strip() == 'BATMAN':\n",
    "        achouNaLista = True\n",
    "\n",
    "if achouNaLista:\n",
    "    print('O aluno Batman está na lista.')\n",
    "else:\n",
    "    print('O aluno Batman não está na lista.')\n",
    "\n",
    "achouNaLista = False\n",
    "for i in range(len(listaAlunos)):\n",
    "    if listaAlunos[i].upper().strip() == 'CORINGA':\n",
    "        achouNaLista = True\n",
    "\n",
    "if achouNaLista:\n",
    "    print('O aluno Coringa está na lista.')\n",
    "else:\n",
    "    print('O aluno Coringa não está na lista.')\n"
   ]
  },
  {
   "cell_type": "code",
   "execution_count": null,
   "id": "d4eaa040",
   "metadata": {},
   "outputs": [
    {
     "name": "stdout",
     "output_type": "stream",
     "text": [
      "Lista de tarefas: ['Beber água', 'escovar os dentes', 'Ouvir música', 'Tomar café.', 'Ler um livro']\n",
      "Incluindo um item na posição 1: ['Beber água', 'Jogar PS5', 'escovar os dentes', 'Ouvir música', 'Tomar café.', 'Ler um livro']\n",
      "Excluindo o último item: ['Beber água', 'Jogar PS5', 'escovar os dentes', 'Ouvir música', 'Tomar café.']\n",
      "Exibindo as duas primeiras tarefas: ['Beber água', 'Jogar PS5']\n",
      "Lista de tarefas: []\n",
      "Cópia da lista de tarefas: ['Beber água', 'Jogar PS5', 'escovar os dentes', 'Ouvir música', 'Tomar café.']\n"
     ]
    }
   ],
   "source": [
    "#Atividade 02: Lista de Tarefas com Prioridade\n",
    "#Insira uma nova tarefa na posição 1 da lista\n",
    "#Remova a última tarefa da lista\n",
    "#Mostre as duas primeiras tarefas usando slicing\n",
    "#Crie uma cópia da lista e limpe a original\n",
    "\n",
    "#Cria uma lista de tarefas\n",
    "listaTarefas = ['Beber água','escovar os dentes','Ouvir música','Tomar café.','Ler um livro']\n",
    "print(f'Lista de tarefas: {listaTarefas}')\n",
    "\n",
    "#Inserindo uma nova tarefa na posição 1\n",
    "listaTarefas.insert(1,'Jogar PS5')\n",
    "print(f'Incluindo um item na posição 1: {listaTarefas}')\n",
    "\n",
    "#Remove a última tareda da lista\n",
    "listaTarefas.pop(-1)\n",
    "print(f'Excluindo o último item: {listaTarefas}')\n",
    "\n",
    "#Mostrando as duas primeiras tarefas usando slicing\n",
    "print(f'Exibindo as duas primeiras tarefas: {listaTarefas[:2]}')\n",
    "\n",
    "#Criando uma cópia da lista e limpando a original\n",
    "listaTarefasCopia = listaTarefas.copy()\n",
    "listaTarefas.clear()\n",
    "print(f'Lista de tarefas: {listaTarefas}')\n",
    "print(f'Cópia da lista de tarefas: {listaTarefasCopia}')"
   ]
  },
  {
   "cell_type": "code",
   "execution_count": 20,
   "id": "03eedb49",
   "metadata": {},
   "outputs": [
    {
     "name": "stdout",
     "output_type": "stream",
     "text": [
      "Lista de clientes: ['Mário', 'Tatiana', 'José', 'Rebeca']\n",
      "Lista com mais um cliente: ['Mário', 'Tatiana', 'José', 'Rebeca', 'Fernanda']\n",
      "Lista retirando o primeiro cliente: ['Tatiana', 'José', 'Rebeca', 'Fernanda']\n",
      "Segundo cliente da lista: José\n",
      "Lista final de clientes: ['Tatiana', 'José', 'Rebeca', 'Fernanda']\n"
     ]
    }
   ],
   "source": [
    "#Atividade 03: Simulação de Fila de Atendimento\n",
    "#Adicione um novo cliente à fila\n",
    "#Remova o primeiro cliente com pop(0)\n",
    "#Verifique quem é o próximo da fila\n",
    "#Mostre o estado atual da fila\n",
    "\n",
    "#Cria a lista de atendimento de clientes\n",
    "listaClientes = ['Mário','Tatiana','José','Rebeca']\n",
    "print(f'Lista de clientes: {listaClientes}')\n",
    "\n",
    "#Adicionando um novo cliente a lista\n",
    "listaClientes.append('Fernanda')\n",
    "print(f'Lista com mais um cliente: {listaClientes}')\n",
    "\n",
    "#Removendo o primeiro cliente\n",
    "listaClientes.pop(0)\n",
    "print(f'Lista retirando o primeiro cliente: {listaClientes}')\n",
    "\n",
    "#Verifique quem é o próximo da fila\n",
    "print(f'Segundo cliente da lista: {listaClientes[1]}')\n",
    "\n",
    "#Imprime a lista final de clientes\n",
    "print(f'Lista final de clientes: {listaClientes}')"
   ]
  },
  {
   "cell_type": "code",
   "execution_count": 21,
   "id": "1a64c1f1",
   "metadata": {},
   "outputs": [
    {
     "name": "stdout",
     "output_type": "stream",
     "text": [
      "1 x 10 = 10\n",
      "2 x 10 = 20\n",
      "3 x 10 = 30\n",
      "4 x 10 = 40\n",
      "5 x 10 = 50\n"
     ]
    }
   ],
   "source": [
    "#Atividade 04: Multiplicação de Elementos\n",
    "#Crie uma lista com números de 1 a 5\n",
    "#Multiplique cada número por 10 usando um laço for\n",
    "\n",
    "#Cria a lista de números\n",
    "listaNumeros = [1, 2, 3, 4, 5]\n",
    "\n",
    "#Multiplica os números da lista por 10\n",
    "for i in range(len(listaNumeros)):\n",
    "    print(f'{listaNumeros[i]} x 10 = {listaNumeros[i] * 10}')"
   ]
  },
  {
   "cell_type": "code",
   "execution_count": 29,
   "id": "541aa62e",
   "metadata": {},
   "outputs": [
    {
     "name": "stdout",
     "output_type": "stream",
     "text": [
      "O nome Ronaldo Nazário possui 6 vogais.\n",
      "O nome Zagalo possui 3 vogais.\n",
      "O nome Marta possui 2 vogais.\n",
      "O nome Pelé possui 1 vogais.\n",
      "O nome Hortência do Basquete possui 8 vogais.\n",
      "O nome Rivelino possui 4 vogais.\n",
      "O nome Rebeca Andrade possui 6 vogais.\n",
      "Lista de nomes: ['Ronaldo Nazário', 'Zagalo', 'Marta', 'Pelé', 'Hortência do Basquete', 'Rivelino', 'Rebeca Andrade']\n",
      "Lista de nomes com mais de 3 vogais: ['Ronaldo Nazário', 'Hortência do Basquete', 'Rivelino', 'Rebeca Andrade']\n"
     ]
    }
   ],
   "source": [
    "#Atividade 05: Contagem de Vogais em Nomes\n",
    "#Conte quantas vogais há em cada nome de uma lista\n",
    "#Crie uma nova lista com os nomes que têm mais de 3 vogais\n",
    "\n",
    "#Cria a lista de nomes\n",
    "listaNomes = ['Ronaldo Nazário','Zagalo','Marta','Pelé','Hortência do Basquete','Rivelino','Rebeca Andrade']\n",
    "\n",
    "#Cria a lista que vai receber os nomes com mais de três vogais\n",
    "listaNomes3Vogais = []\n",
    "\n",
    "#Percorre a lista de nomes\n",
    "for i in range(len(listaNomes)):\n",
    "\n",
    "    qtdeVogais = 0\n",
    "    nomeAtual = listaNomes[i].upper().strip()\n",
    "\n",
    "    #Percorre os caracteres de cada nome na lista\n",
    "    for j in range(len(nomeAtual)):\n",
    "\n",
    "        #Incrementa a quantidade de vogais se for uma vogal\n",
    "        if nomeAtual[j] == 'A' or nomeAtual[j] == 'E' or nomeAtual[j] == 'I' or nomeAtual[j] == 'O' or nomeAtual[j] == 'U':\n",
    "            qtdeVogais += 1\n",
    "\n",
    "    #Imprime o nome e a sua quantidade de vogais\n",
    "    print(f'O nome {listaNomes[i]} possui {qtdeVogais} vogais.')\n",
    "\n",
    "    #Se o nome tiver mais de três vogais, inclui na lista de nomes com mais de 3 vogais\n",
    "    if qtdeVogais > 3:\n",
    "        listaNomes3Vogais.append(listaNomes[i])\n",
    "\n",
    "print(f'Lista de nomes: {listaNomes}')\n",
    "print(f'Lista de nomes com mais de 3 vogais: {listaNomes3Vogais}')\n"
   ]
  },
  {
   "cell_type": "code",
   "execution_count": 28,
   "id": "e28e21eb",
   "metadata": {},
   "outputs": [
    {
     "name": "stdout",
     "output_type": "stream",
     "text": [
      "[(\"48° 51' 30'' N\", \"02° 17' 40'' L\"), (\"23° 17' 57'' S\", \"72° 48' 01'' O\"), (\"03° 45' 36'' N\", \"97° 14' 29'' O\")]\n",
      "A segunda coordenada cadastrada é: (\"23° 17' 57'' S\", \"72° 48' 01'' O\")\n",
      "\n",
      "------- Lista de Coordenadas -------\n",
      "Coordenada 1: Latidude = 48° 51' 30'' N e Longitude = 02° 17' 40'' L\n",
      "Coordenada 2: Latidude = 23° 17' 57'' S e Longitude = 72° 48' 01'' O\n",
      "Coordenada 3: Latidude = 03° 45' 36'' N e Longitude = 97° 14' 29'' O\n"
     ]
    }
   ],
   "source": [
    "#Atividade 06: Coordenadas Geográficas (Tuplas)\n",
    "#Acesse a latitude e longitude do segundo ponto de uma lista de tuplas\n",
    "#Crie uma string formatada com os valores das tuplas\n",
    "\n",
    "#Cria a lista de tuplas\n",
    "#listaCoordenadas = [(\"48° 51' 30'' N,2° 17' 40'' L\"),(\"23° 17' 57'' S,72° 48' 01'' O\"),(\"03° 45' 36'' N,100° 14' 29'' O\")]\n",
    "listaCoordenadas = [(\"48° 51' 30'' N\",\"02° 17' 40'' L\"),(\"23° 17' 57'' S\",\"72° 48' 01'' O\"),(\"03° 45' 36'' N\",\"97° 14' 29'' O\")]\n",
    "print(listaCoordenadas)\n",
    "\n",
    "#Acessando o segundo ponto\n",
    "print(f'A segunda coordenada cadastrada é: {listaCoordenadas[1]}')\n",
    "\n",
    "print('\\n------- Lista de Coordenadas -------')\n",
    "#Percorre a lista criando uma string formatada com os valores das tuplas\n",
    "for i in range(len(listaCoordenadas)):\n",
    "\n",
    "    #Recupera a coordenada da posição atual\n",
    "    coordenadaAtual = listaCoordenadas[i]\n",
    "\n",
    "    #Imprime o resultado\n",
    "    print(f'Coordenada {i+1}: Latidude = {coordenadaAtual[0]} e Longitude = {coordenadaAtual[1]}')"
   ]
  },
  {
   "cell_type": "code",
   "execution_count": null,
   "id": "c46d2216",
   "metadata": {},
   "outputs": [
    {
     "ename": "TypeError",
     "evalue": "'tuple' object does not support item assignment",
     "output_type": "error",
     "traceback": [
      "\u001b[31m---------------------------------------------------------------------------\u001b[39m",
      "\u001b[31mTypeError\u001b[39m                                 Traceback (most recent call last)",
      "\u001b[36mCell\u001b[39m\u001b[36m \u001b[39m\u001b[32mIn[20]\u001b[39m\u001b[32m, line 10\u001b[39m\n\u001b[32m      7\u001b[39m tuplaProduto = (\u001b[33m'\u001b[39m\u001b[33mFeijão\u001b[39m\u001b[33m'\u001b[39m,\u001b[33m'\u001b[39m\u001b[33mR$ 5,00\u001b[39m\u001b[33m'\u001b[39m)\n\u001b[32m      9\u001b[39m \u001b[38;5;66;03m#Tentando alterar o valor do preço\u001b[39;00m\n\u001b[32m---> \u001b[39m\u001b[32m10\u001b[39m \u001b[43mtuplaProduto\u001b[49m\u001b[43m[\u001b[49m\u001b[32;43m1\u001b[39;49m\u001b[43m]\u001b[49m = \u001b[33m'\u001b[39m\u001b[33mR$ 7,00\u001b[39m\u001b[33m'\u001b[39m\n",
      "\u001b[31mTypeError\u001b[39m: 'tuple' object does not support item assignment"
     ]
    }
   ],
   "source": [
    "#Atividade 07: Dados Imutáveis (Tuplas)\n",
    "#Crie uma tupla com dados de um produto\n",
    "#Tente alterar o preço (vai gerar erro)\n",
    "#Explique por que tuplas são úteis nesse caso\n",
    "\n",
    "#Cria a tupla de um produto\n",
    "tuplaProduto = ('Feijão','R$ 5,00')\n",
    "\n",
    "#Tentando alterar o valor do preço\n",
    "tuplaProduto[1] = 'R$ 7,00'\n",
    "\n",
    "#Resposta: Tuplas são úteis onde temos dados sensíveis, que não podem ser alterados sem prévios conhecimento e autorização.\n",
    "#          Isso ajuda a garantir a segurança do negócio.\n"
   ]
  },
  {
   "cell_type": "code",
   "execution_count": 43,
   "id": "7a982c3d",
   "metadata": {},
   "outputs": [
    {
     "name": "stdout",
     "output_type": "stream",
     "text": [
      "[('João', 8.0), ('Maria', 9.2), ('Ronaldo', 5.3), ('Zico', 6.9), ('Pelé', 4.7), ('Capitão América', 7), ('Hulk', 9.6)]\n",
      "--- Alunos com média maior que 8 ---\n",
      "  O(A) aluno(a) Maria possui média maior que 8.\n",
      "  O(A) aluno(a) Hulk possui média maior que 8.\n",
      "--- Lista de alunos aprovados (média >= 7) ---\n",
      "João\n",
      "Maria\n",
      "Capitão América\n",
      "Hulk\n"
     ]
    }
   ],
   "source": [
    "#Atividade 08: Lista de Tuplas com Notas\n",
    "#Mostre os alunos com nota acima de 8\n",
    "#Crie uma nova lista apenas com os nomes dos aprovados (Média >= 7)\n",
    "\n",
    "#Cria uma lista de tuplas de Aluno x Média Final\n",
    "listaAlunos = [('João',8.0),('Maria',9.2),('Ronaldo',5.3),('Zico',6.9),('Pelé',4.7),('Capitão América',7),('Hulk',9.6)]\n",
    "print(listaAlunos)\n",
    "\n",
    "#Cria uma lista com os nomes dos alunos aprovados\n",
    "listaAprovados = []\n",
    "\n",
    "print('--- Alunos com média maior que 8 ---')\n",
    "\n",
    "#Percorre toda lista de alunos\n",
    "for i in range(len(listaAlunos)):\n",
    "\n",
    "    #Recupera o registro atual\n",
    "    alunoAtual = listaAlunos[i]\n",
    "\n",
    "    #Se o aluno possui média maior que 8, imprime o nome dele\n",
    "    if alunoAtual[1] > 8:\n",
    "        print(f'  O(A) aluno(a) {alunoAtual[0]} possui média maior que 8.')\n",
    "    \n",
    "    #Se o aluno for aprovado (média >= 7), inclui o nome do aluno aprovado em uma lista\n",
    "    if alunoAtual[1] >= 7:\n",
    "        listaAprovados.append(alunoAtual[0])\n",
    "\n",
    "#Imprime a lista de alunos aprovados\n",
    "print('--- Lista de alunos aprovados (média >= 7) ---')\n",
    "for i in range(len(listaAprovados)):\n",
    "    print(f'{listaAprovados[i]}')"
   ]
  }
 ],
 "metadata": {
  "kernelspec": {
   "display_name": "Python 3",
   "language": "python",
   "name": "python3"
  },
  "language_info": {
   "codemirror_mode": {
    "name": "ipython",
    "version": 3
   },
   "file_extension": ".py",
   "mimetype": "text/x-python",
   "name": "python",
   "nbconvert_exporter": "python",
   "pygments_lexer": "ipython3",
   "version": "3.13.7"
  }
 },
 "nbformat": 4,
 "nbformat_minor": 5
}
