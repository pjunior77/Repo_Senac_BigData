{
 "cells": [
  {
   "cell_type": "markdown",
   "metadata": {},
   "source": [
    "### AULA 05 - Revisão Python Básico"
   ]
  },
  {
   "cell_type": "code",
   "execution_count": 5,
   "metadata": {},
   "outputs": [
    {
     "name": "stdout",
     "output_type": "stream",
     "text": [
      "\n",
      "---------- Resultados do programa ----------\n",
      "João das Couves tem 38 anos e mora em Rio de Janeiro.\n",
      "----- FIM -----\n",
      "\n"
     ]
    }
   ],
   "source": [
    "#Atividade 01: Trabalhando com Variáveis\n",
    "#Crie variáveis para armazenar nome, idade e cidade\n",
    "#Exiba essas informações usando print\n",
    "\n",
    "#Solicita as informações\n",
    "nome = input('Qual o seu nome? ')\n",
    "\n",
    "while True:\n",
    "    try:\n",
    "        idade = int(input('Qual a sua idade? '))\n",
    "        break\n",
    "    except:\n",
    "        print('Valor inválido. Digite um número inteiro.')\n",
    "\n",
    "cidade = input('Em que cidade você mora? ')\n",
    "\n",
    "#Imprime os resultados do programa\n",
    "print('\\n---------- Resultados do programa ----------')\n",
    "\n",
    "print(f'{nome} tem {idade} anos e mora em {cidade}.')\n",
    "\n",
    "print('----- FIM -----\\n')\n"
   ]
  },
  {
   "cell_type": "code",
   "execution_count": 3,
   "metadata": {},
   "outputs": [
    {
     "name": "stdout",
     "output_type": "stream",
     "text": [
      "Valor inválido. Digite um número inteiro.\n",
      "Você é MAIOR de idade.\n",
      "----- FIM -----\n",
      "\n"
     ]
    }
   ],
   "source": [
    "#Atividade 02: Decisões com if\n",
    "#Peça ao usuário uma idade\n",
    "#Verifique se ele é maior de idade e exiba uma mensagem correspondente\n",
    "\n",
    "#Solicita as informações\n",
    "while True:\n",
    "    try:\n",
    "        idade = int(input('Qual a sua idade? '))\n",
    "        break\n",
    "    except:\n",
    "        print('Valor inválido. Digite um número inteiro.')\n",
    "\n",
    "#Verifica se a pessoa é ou não maior de idade e exibe a mensagem correspondente\n",
    "if idade >= 18:\n",
    "    print('Você é MAIOR de idade.')\n",
    "else:\n",
    "    print('Você é MENOR de idade.')\n",
    "\n",
    "print('----- FIM -----\\n')"
   ]
  },
  {
   "cell_type": "code",
   "execution_count": 1,
   "metadata": {},
   "outputs": [
    {
     "name": "stdout",
     "output_type": "stream",
     "text": [
      "Exibindo os números de 1 a 10:\n",
      "Número: 1\n",
      "Número: 2\n",
      "Número: 3\n",
      "Número: 4\n",
      "Número: 5\n",
      "Número: 6\n",
      "Número: 7\n",
      "Número: 8\n",
      "Número: 9\n",
      "Número: 10\n",
      "\n",
      "Exibindo os números pares de 1 a 10:\n",
      "Número: 2\n",
      "Número: 4\n",
      "Número: 6\n",
      "Número: 8\n",
      "Número: 10\n"
     ]
    }
   ],
   "source": [
    "#Atividade 03: Laço for básico\n",
    "#Exiba os números de 1 a 10 usando for\n",
    "#Exiba apenas os pares\n",
    "\n",
    "#Imprime os números de 1 a 10\n",
    "print('Exibindo os números de 1 a 10:')\n",
    "for i in range(1, 11):\n",
    "    print(f'Número: {i}')\n",
    "\n",
    "#Imprime os números pares de 1 a 10\n",
    "print('\\nExibindo os números pares de 1 a 10:')\n",
    "for i in range(2, 11, 2):\n",
    "    print(f'Número: {i}')\n"
   ]
  },
  {
   "cell_type": "code",
   "execution_count": 3,
   "metadata": {},
   "outputs": [
    {
     "name": "stdout",
     "output_type": "stream",
     "text": [
      "Número: 0\n",
      "Número: 1\n",
      "Número: 2\n",
      "Número: 3\n",
      "Número: 4\n",
      "Número: 5\n"
     ]
    }
   ],
   "source": [
    "#Atividade 04: Laço while básico\n",
    "#Crie um contador que vai de 0 a 5 usando while\n",
    "#Exiba cada valor\n",
    "\n",
    "#Cria o contador\n",
    "contador = 0\n",
    "\n",
    "#Imprime os valores\n",
    "while contador <= 5:\n",
    "    print(f'Número: {contador}')\n",
    "\n",
    "    #Incrementa o contador\n",
    "    contador += 1"
   ]
  },
  {
   "cell_type": "code",
   "execution_count": 4,
   "metadata": {},
   "outputs": [
    {
     "name": "stdout",
     "output_type": "stream",
     "text": [
      "A lista completa de frutas é: ['Maça', 'Pera', 'Uva', 'Laranja', 'Mamão'].\n",
      "A última fruta da lista é: Mamão.\n"
     ]
    }
   ],
   "source": [
    "#Atividade 05: Introdução às Listas\n",
    "#Crie uma lista com 5 frutas\n",
    "#Exiba a lista completa\n",
    "#Mostre apenas a primeira e a última fruta\n",
    "\n",
    "#Cria a lista de frutas\n",
    "listaFrutas = ['Maça','Pera','Uva','Laranja','Mamão']\n",
    "\n",
    "#Imprime a lista completa\n",
    "print(f'A lista completa de frutas é: {listaFrutas}.')\n",
    "\n",
    "#Imprime a última fruta\n",
    "print(f'A última fruta da lista é: {listaFrutas[-1]}.')\n"
   ]
  },
  {
   "cell_type": "code",
   "execution_count": 5,
   "metadata": {},
   "outputs": [
    {
     "name": "stdout",
     "output_type": "stream",
     "text": [
      "Incluido Morango: ['Maça', 'Pera', 'Uva', 'Laranja', 'Mamão', 'Morango'].\n",
      "Removida a Laranja: ['Maça', 'Pera', 'Uva', 'Mamão', 'Morango'].\n",
      "Incluída novamente a Laranja na posição de índice 4: ['Maça', 'Pera', 'Uva', 'Mamão', 'Laranja', 'Morango'].\n"
     ]
    }
   ],
   "source": [
    "#Atividade 06: Modificando Listas\n",
    "#Adicione uma fruta à lista\n",
    "#Remova uma fruta da lista\n",
    "#Substitua uma fruta por outra\n",
    "\n",
    "#Adiciona uma nova fruta ao final da lista de frutas e depois exibe a lista\n",
    "listaFrutas.append('Morango')\n",
    "print(f'Incluido Morango: {listaFrutas}.')\n",
    "\n",
    "#Remove uma fruta da lista e depois exibe a lista\n",
    "listaFrutas.remove('Laranja')\n",
    "print(f'Removida a Laranja: {listaFrutas}.')\n",
    "\n",
    "#Substitui uma fruta por outra na lista de frutas e depois exibe a lista\n",
    "listaFrutas.insert(4,'Laranja')\n",
    "print(f'Incluída novamente a Laranja na posição de índice 4: {listaFrutas}.')"
   ]
  },
  {
   "cell_type": "code",
   "execution_count": 6,
   "metadata": {},
   "outputs": [
    {
     "name": "stdout",
     "output_type": "stream",
     "text": [
      "Olá João, tudo bem?\n",
      "Olá Maria, tudo bem?\n",
      "Olá Florentina, tudo bem?\n",
      "Olá Ludovico, tudo bem?\n",
      "Olá Zezinho, tudo bem?\n"
     ]
    }
   ],
   "source": [
    "#Atividade 07: Listas e Laços\n",
    "#Crie uma lista com 5 nomes\n",
    "#Use for para exibir cada nome com uma saudação\n",
    "\n",
    "#Cria a lista com cinco nomes\n",
    "listaNomes = ['João','Maria','Florentina','Ludovico','Zezinho']\n",
    "\n",
    "#Percorre a lista e imprime os nomes com as saudações\n",
    "for i in range(len(listaNomes)):\n",
    "    print(f'Olá {listaNomes[i]}, tudo bem?')\n"
   ]
  },
  {
   "cell_type": "code",
   "execution_count": null,
   "metadata": {},
   "outputs": [
    {
     "name": "stdout",
     "output_type": "stream",
     "text": [
      "10: MENOR de idade.\n",
      "18: MAIOR de idade.\n",
      "39: MAIOR de idade.\n",
      "3: MENOR de idade.\n",
      "25: MAIOR de idade.\n",
      "17: MENOR de idade.\n",
      "71: MAIOR de idade.\n"
     ]
    }
   ],
   "source": [
    "#Atividade 08: Listas e Decisão\n",
    "#Crie uma lista com idades\n",
    "#Use for e if para exibir quem é maior de idade\n",
    "\n",
    "#Cria a lista com idades\n",
    "listaIdades = [10, 18, 39, 3, 25, 17, 71]\n",
    "\n",
    "#Percorre a lista verificando se é maior de idade\n",
    "for i in range(len(listaIdades)):\n",
    "    if listaIdades[i] >= 18:\n",
    "        print(f'{listaIdades[i]}: MAIOR de idade.')\n",
    "    else:\n",
    "        print(f'{listaIdades[i]}: MENOR de idade.')\n"
   ]
  },
  {
   "cell_type": "code",
   "execution_count": 9,
   "metadata": {},
   "outputs": [
    {
     "name": "stdout",
     "output_type": "stream",
     "text": [
      "O nome cadastrado 1 é Huguinho.\n",
      "O nome cadastrado 2 é Zezinho.\n",
      "O nome cadastrado 3 é Luizinho.\n"
     ]
    }
   ],
   "source": [
    "#Atividade 09: Cadastro Simples\n",
    "#Crie uma lista vazia\n",
    "#Peça 3 nomes ao usuário e adicione à lista\n",
    "#Exiba a lista final\n",
    "\n",
    "#Cria uma lista de nomes vazia\n",
    "listaNomes = []\n",
    "\n",
    "#Solicita 3 nomes ao usuário e os inclui a lista\n",
    "for i in range(3):\n",
    "    listaNomes.append(input(f'Qual o nome {i+1}?' ))\n",
    "\n",
    "#Imprime os resultados da lista\n",
    "for i in range(len(listaNomes)):\n",
    "    print(f'O nome cadastrado {i+1} é {listaNomes[i]}.')"
   ]
  },
  {
   "cell_type": "code",
   "execution_count": 3,
   "metadata": {},
   "outputs": [
    {
     "name": "stdout",
     "output_type": "stream",
     "text": [
      "\n",
      "Lista de tarefas:\n",
      "  Digite 1 para ADICIONAR uma tarefa.\n",
      "  Digite 2 para REMOVER uma tarefa.\n",
      "  Digite 3 para LISTAR as tarefas.\n",
      "  Digite 4 para SAIR do programa.\n",
      "--- Tarefa adicionada.\n",
      "\n",
      "Lista de tarefas:\n",
      "  Digite 1 para ADICIONAR uma tarefa.\n",
      "  Digite 2 para REMOVER uma tarefa.\n",
      "  Digite 3 para LISTAR as tarefas.\n",
      "  Digite 4 para SAIR do programa.\n",
      "--- Valor inválido. O número dessa tarefa não existe.\n",
      "\n",
      "Lista de tarefas:\n",
      "  Digite 1 para ADICIONAR uma tarefa.\n",
      "  Digite 2 para REMOVER uma tarefa.\n",
      "  Digite 3 para LISTAR as tarefas.\n",
      "  Digite 4 para SAIR do programa.\n",
      "--- Tarefa adicionada.\n",
      "\n",
      "Lista de tarefas:\n",
      "  Digite 1 para ADICIONAR uma tarefa.\n",
      "  Digite 2 para REMOVER uma tarefa.\n",
      "  Digite 3 para LISTAR as tarefas.\n",
      "  Digite 4 para SAIR do programa.\n",
      "----- Lista das tarefas cadastradas -----\n",
      "  Tarefa 1 - Nome: ahdahlas\n",
      "  Tarefa 2 - Nome: teste\n",
      "\n",
      "Lista de tarefas:\n",
      "  Digite 1 para ADICIONAR uma tarefa.\n",
      "  Digite 2 para REMOVER uma tarefa.\n",
      "  Digite 3 para LISTAR as tarefas.\n",
      "  Digite 4 para SAIR do programa.\n",
      "----- Lista das tarefas cadastradas -----\n",
      "  Tarefa 1 - Nome: ahdahlas\n",
      "  Tarefa 2 - Nome: teste\n",
      "\n",
      "Lista de tarefas:\n",
      "  Digite 1 para ADICIONAR uma tarefa.\n",
      "  Digite 2 para REMOVER uma tarefa.\n",
      "  Digite 3 para LISTAR as tarefas.\n",
      "  Digite 4 para SAIR do programa.\n",
      "--- Tarefa removida.\n",
      "\n",
      "Lista de tarefas:\n",
      "  Digite 1 para ADICIONAR uma tarefa.\n",
      "  Digite 2 para REMOVER uma tarefa.\n",
      "  Digite 3 para LISTAR as tarefas.\n",
      "  Digite 4 para SAIR do programa.\n",
      "----- Lista das tarefas cadastradas -----\n",
      "  Tarefa 1 - Nome: teste\n",
      "\n",
      "Lista de tarefas:\n",
      "  Digite 1 para ADICIONAR uma tarefa.\n",
      "  Digite 2 para REMOVER uma tarefa.\n",
      "  Digite 3 para LISTAR as tarefas.\n",
      "  Digite 4 para SAIR do programa.\n",
      "----- FIM -----\n",
      "\n"
     ]
    }
   ],
   "source": [
    "#Atividade 10: Desafio Final: Sistema de Lista de Tarefas\n",
    "#Permita adicionar, remover e listar tarefas\n",
    "#Use while para manter o programa rodando até o usuário decidir sair\n",
    "\n",
    "#Cria uma lista de tarefas vazia\n",
    "listaTarefas = []\n",
    "\n",
    "#Executa o loop até o usuário escolher a opção 4 (SAIR)\n",
    "while True:\n",
    "    print('\\nLista de tarefas:')\n",
    "    print('  Digite 1 para ADICIONAR uma tarefa.')\n",
    "    print('  Digite 2 para REMOVER uma tarefa.')\n",
    "    print('  Digite 3 para LISTAR as tarefas.')\n",
    "    print('  Digite 4 para SAIR do programa.')\n",
    "\n",
    "    #Solicita a opção desejada\n",
    "    while True:\n",
    "        try:\n",
    "            numTarefa = int(input('Qual a opção desejada? '))\n",
    "            break\n",
    "        except:\n",
    "            print('--- Valor inválido. Digite um valor inteiro.')\n",
    "    \n",
    "    #Dependendo da opção escolhida realiza uma tarefa diferente\n",
    "    match numTarefa:\n",
    "\n",
    "        #Adiciona uma tarefa\n",
    "        case 1:\n",
    "            listaTarefas.append(input('Qual o nome da tarefa que deseja adicionar? '))\n",
    "            print('--- Tarefa adicionada.')\n",
    "        \n",
    "        #Remove uma tarefa\n",
    "        case 2:\n",
    "            #Verifica se a lista está vazia\n",
    "            if len(listaTarefas) > 0:\n",
    "                while True:\n",
    "                    try:\n",
    "                        #Pega a tarefa a ser removida\n",
    "                        numTarefaRemover = int(input('Qual o número da tarefa que deseja remover? '))\n",
    "                        break\n",
    "                    except:\n",
    "                        print('--- Valor inválido. Digite um valor inteiro.')\n",
    "                \n",
    "                try:\n",
    "                    #Remove a tarefa\n",
    "                    listaTarefas.pop(numTarefaRemover - 1)      #Diminuo 1 porque o índice começa com zero\n",
    "                    print('--- Tarefa removida.')\n",
    "                except:\n",
    "                    print('--- Valor inválido. O número dessa tarefa não existe.')\n",
    "                        \n",
    "            else:\n",
    "                print('---Lista de tarefas vazia, não é possível excluir tarefas.')\n",
    "        \n",
    "        #Lista as tarefas\n",
    "        case 3:\n",
    "            #Verifica se a lista está vazia\n",
    "            if len(listaTarefas) > 0:\n",
    "                print('----- Lista das tarefas cadastradas -----')\n",
    "                for i in range(len(listaTarefas)):\n",
    "                    print(f'  Tarefa {i+1} - Nome: {listaTarefas[i]}')\n",
    "            else:\n",
    "                print('--- Lista de tarefas vazia, não é possível listar tarefas.')\n",
    "        \n",
    "        #Sai do programa\n",
    "        case 4:\n",
    "            break\n",
    "\n",
    "        #Informa que a opção escolhida é inválida.\n",
    "        case _:\n",
    "            print('--- Opção inválida.')\n",
    "\n",
    "print('----- FIM -----\\n')"
   ]
  }
 ],
 "metadata": {
  "kernelspec": {
   "display_name": "Python 3",
   "language": "python",
   "name": "python3"
  },
  "language_info": {
   "codemirror_mode": {
    "name": "ipython",
    "version": 3
   },
   "file_extension": ".py",
   "mimetype": "text/x-python",
   "name": "python",
   "nbconvert_exporter": "python",
   "pygments_lexer": "ipython3",
   "version": "3.13.7"
  },
  "orig_nbformat": 4
 },
 "nbformat": 4,
 "nbformat_minor": 2
}
