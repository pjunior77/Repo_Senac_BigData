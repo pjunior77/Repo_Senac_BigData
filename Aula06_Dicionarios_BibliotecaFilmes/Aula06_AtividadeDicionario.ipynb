{
 "cells": [
  {
   "cell_type": "markdown",
   "metadata": {},
   "source": [
    "### Aula 06 - Atividade Dicinário"
   ]
  },
  {
   "cell_type": "code",
   "execution_count": 37,
   "metadata": {},
   "outputs": [
    {
     "name": "stdout",
     "output_type": "stream",
     "text": [
      "--- Lista das capitais cadastradas ---\n",
      "  Rio de Janeiro\n",
      "  São Paulo\n",
      "  Vitória\n",
      "  Porto Alegre\n",
      "  Curitiba\n",
      "Capital do estado SP : São Paulo.\n",
      "Capital do estado SP : São Paulo.\n"
     ]
    }
   ],
   "source": [
    "#Cria o dicionário\n",
    "capitais = {\"RJ\":\"Rio de Janeiro\", \"SP\":\"São Paulo\", \"ES\":\"Vitória\", \"RS\":\"Porto Alegre\", \"PR\":\"Curitiba\"}\n",
    "\n",
    "#Mostra todas as capitais cadastradas\n",
    "print('--- Lista das capitais cadastradas ---')\n",
    "for value in capitais.values():\n",
    "    print(f'  {value}')\n",
    "\n",
    "#Solicita um estado ao usuário\n",
    "estado = input(\"Qual o nome do estado que você deseja saber a capital? \")\n",
    "\n",
    "bolAchou = False\n",
    "\n",
    "#Percorre o dicionário\n",
    "for chave, value in capitais.items():\n",
    "\n",
    "    #Verifica se a chave corresponde ao estado informado\n",
    "    if chave.upper().strip() == estado.upper().strip():\n",
    "        print(f\"Capital do estado {chave.upper()} : {value}.\")\n",
    "        bolAchou = True\n",
    "\n",
    "#Se não achou o estado, informa ao usuário\n",
    "if bolAchou == False:\n",
    "    print(f\"Capital do estado {estado.upper()} : não foi encontrada.\")\n",
    "\n",
    "\n",
    "#Outra opção mais simples\n",
    "print(f'Capital do estado {estado.upper()} : {capitais.get(estado.upper(), \"não foi encontrada\")}.')\n"
   ]
  }
 ],
 "metadata": {
  "kernelspec": {
   "display_name": "Python 3",
   "language": "python",
   "name": "python3"
  },
  "language_info": {
   "codemirror_mode": {
    "name": "ipython",
    "version": 3
   },
   "file_extension": ".py",
   "mimetype": "text/x-python",
   "name": "python",
   "nbconvert_exporter": "python",
   "pygments_lexer": "ipython3",
   "version": "3.11.4"
  },
  "orig_nbformat": 4
 },
 "nbformat": 4,
 "nbformat_minor": 2
}
