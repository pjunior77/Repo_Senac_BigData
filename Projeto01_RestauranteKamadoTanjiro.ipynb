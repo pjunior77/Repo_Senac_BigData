{
 "cells": [
  {
   "cell_type": "markdown",
   "metadata": {},
   "source": [
    "### Projeto Restaurante Kamado Tanjiró"
   ]
  },
  {
   "cell_type": "code",
   "execution_count": null,
   "metadata": {},
   "outputs": [],
   "source": [
    "#Cria o dicionário com o cardápio (https://restaurantemizu.com.br/mizudelivery)\n",
    "cardapio = {\n",
    "    #Entradas (E)\n",
    "    \"Ussuzukuri de Salmão\":[\"E\", 54.90, \"15 Lâminas finíssimas de Salmão com azeite de erva, flor de sal e raspas de siciliano\"],\n",
    "    \"Ussuzukuri de Tilápia ao Molho Ponzu\":[\"E\", 39.90, \"15 Lâminas finíssimas de peixe com molho ponzu da casa\"],\n",
    "    \"Sunomono\":[\"E\", 12.00, \"Pepino a vinagrete com kani e gergelim moído\"],\n",
    "    \"Shimeji\":[\"E\", 34.00, \"\"],\n",
    "    \"Gyoza de Porco\":[\"E\", 34.00, \"\"],\n",
    "    \"Gyoza de Legumes\":[\"E\", 34.00, \"\"],\n",
    "    \"Harumaki de Legumes\":[\"E\", 19.90, \"Rolinho Primavera de Legumes\"],\n",
    "    \"Ika Fry\":[\"E\", 44.90, \"Lula empanada no Panko - 200g\"],\n",
    "    #Yakisobas (P)\n",
    "    \"Yakisoba de Legumes\":[\"P\", 39.90, \"500 gr\"],\n",
    "    \"Yakisoba de Carne com Legumes\":[\"P\", 64.90, \"500 gr\"],\n",
    "    \"Yakisoba de Camarão com Legumes\":[\"P\", 69.90, \"500 gr\"],\n",
    "    #Sashimis (P)\n",
    "    \"Sashimi de Salmão\":32.00,\n",
    "    \"Sashimi de Atum\":28.00,\n",
    "    \"Temaki Hot Filadeldia\":38.90,\n",
    "    \"Temaki Salmão\":38.90,\n",
    "    #Sobremesas\n",
    "    \"Harumaki de Chocolate Preto\":19.90,\n",
    "    \"Harumaki de Chocolate Branco\":15.00,\n",
    "    #Bebidas\n",
    "    \"Pepsi Comum\":8.90,\n",
    "    \"Pepsi Sem Açúcar\":8.90,\n",
    "    \"Guaraná Comum\":8.90,\n",
    "    \"Guaraná Sem Açúcar\":8.90\n",
    "    }\n"
   ]
  }
 ],
 "metadata": {
  "kernelspec": {
   "display_name": "Python 3",
   "language": "python",
   "name": "python3"
  },
  "language_info": {
   "name": "python",
   "version": "3.11.4"
  },
  "orig_nbformat": 4
 },
 "nbformat": 4,
 "nbformat_minor": 2
}
