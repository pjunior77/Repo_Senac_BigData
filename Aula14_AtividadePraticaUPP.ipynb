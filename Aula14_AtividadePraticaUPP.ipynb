{
 "cells": [
  {
   "cell_type": "code",
   "execution_count": 1,
   "id": "28361be1",
   "metadata": {},
   "outputs": [],
   "source": [
    "#Importação das bibliotecas\n",
    "import pandas as pd\n",
    "import numpy as np"
   ]
  },
  {
   "cell_type": "code",
   "execution_count": 2,
   "id": "de9cb2cb",
   "metadata": {},
   "outputs": [
    {
     "data": {
      "text/html": [
       "<div>\n",
       "<style scoped>\n",
       "    .dataframe tbody tr th:only-of-type {\n",
       "        vertical-align: middle;\n",
       "    }\n",
       "\n",
       "    .dataframe tbody tr th {\n",
       "        vertical-align: top;\n",
       "    }\n",
       "\n",
       "    .dataframe thead th {\n",
       "        text-align: right;\n",
       "    }\n",
       "</style>\n",
       "<table border=\"1\" class=\"dataframe\">\n",
       "  <thead>\n",
       "    <tr style=\"text-align: right;\">\n",
       "      <th></th>\n",
       "      <th>cod_upp</th>\n",
       "      <th>upp</th>\n",
       "      <th>ano</th>\n",
       "      <th>mes</th>\n",
       "      <th>hom_doloso</th>\n",
       "      <th>lesao_corp_morte</th>\n",
       "      <th>latrocinio</th>\n",
       "      <th>hom_por_interv_policial</th>\n",
       "      <th>tentat_hom</th>\n",
       "      <th>lesao_corp_dolosa</th>\n",
       "      <th>...</th>\n",
       "      <th>armas_apreendidas</th>\n",
       "      <th>cump_mandado_prisao</th>\n",
       "      <th>ocorr_flagrante</th>\n",
       "      <th>ameaca</th>\n",
       "      <th>pessoas_desaparecidas</th>\n",
       "      <th>encontro_cadaver</th>\n",
       "      <th>encontro_ossada</th>\n",
       "      <th>pol_militares_mortos_serv</th>\n",
       "      <th>pol_civis_mortos_serv</th>\n",
       "      <th>registro_ocorrencias</th>\n",
       "    </tr>\n",
       "  </thead>\n",
       "  <tbody>\n",
       "    <tr>\n",
       "      <th>0</th>\n",
       "      <td>1</td>\n",
       "      <td>Santa Marta</td>\n",
       "      <td>2007</td>\n",
       "      <td>1</td>\n",
       "      <td>0</td>\n",
       "      <td>0</td>\n",
       "      <td>0</td>\n",
       "      <td>0</td>\n",
       "      <td>0</td>\n",
       "      <td>1</td>\n",
       "      <td>...</td>\n",
       "      <td>2</td>\n",
       "      <td>1</td>\n",
       "      <td>0</td>\n",
       "      <td>0</td>\n",
       "      <td>0</td>\n",
       "      <td>0</td>\n",
       "      <td>0</td>\n",
       "      <td>0</td>\n",
       "      <td>0</td>\n",
       "      <td>11</td>\n",
       "    </tr>\n",
       "    <tr>\n",
       "      <th>1</th>\n",
       "      <td>2</td>\n",
       "      <td>Cidade de Deus</td>\n",
       "      <td>2007</td>\n",
       "      <td>1</td>\n",
       "      <td>3</td>\n",
       "      <td>0</td>\n",
       "      <td>0</td>\n",
       "      <td>0</td>\n",
       "      <td>1</td>\n",
       "      <td>18</td>\n",
       "      <td>...</td>\n",
       "      <td>7</td>\n",
       "      <td>2</td>\n",
       "      <td>11</td>\n",
       "      <td>7</td>\n",
       "      <td>2</td>\n",
       "      <td>0</td>\n",
       "      <td>0</td>\n",
       "      <td>0</td>\n",
       "      <td>0</td>\n",
       "      <td>98</td>\n",
       "    </tr>\n",
       "  </tbody>\n",
       "</table>\n",
       "<p>2 rows × 42 columns</p>\n",
       "</div>"
      ],
      "text/plain": [
       "   cod_upp             upp   ano  mes  hom_doloso  lesao_corp_morte  \\\n",
       "0        1     Santa Marta  2007    1           0                 0   \n",
       "1        2  Cidade de Deus  2007    1           3                 0   \n",
       "\n",
       "   latrocinio  hom_por_interv_policial  tentat_hom  lesao_corp_dolosa  ...  \\\n",
       "0           0                        0           0                  1  ...   \n",
       "1           0                        0           1                 18  ...   \n",
       "\n",
       "   armas_apreendidas  cump_mandado_prisao  ocorr_flagrante  ameaca  \\\n",
       "0                  2                    1                0       0   \n",
       "1                  7                    2               11       7   \n",
       "\n",
       "   pessoas_desaparecidas  encontro_cadaver  encontro_ossada  \\\n",
       "0                      0                 0                0   \n",
       "1                      2                 0                0   \n",
       "\n",
       "   pol_militares_mortos_serv  pol_civis_mortos_serv  registro_ocorrencias  \n",
       "0                          0                      0                    11  \n",
       "1                          0                      0                    98  \n",
       "\n",
       "[2 rows x 42 columns]"
      ]
     },
     "execution_count": 2,
     "metadata": {},
     "output_type": "execute_result"
    }
   ],
   "source": [
    "#Importa os dados do arquivo CSV e monta o DataFrame com a Base de Dados\n",
    "#Estatísticas de segurança: série histórica mensal por área de Unidade de Polícia Pacificadora (01/2007 a 06/2021)\n",
    "dfBD = pd.read_csv(\"https://www.ispdados.rj.gov.br/Arquivos/UppEvolucaoMensalDeTitulos.csv\", delimiter=\";\", encoding=\"latin1\")\n",
    "dfBD.head(2)"
   ]
  },
  {
   "cell_type": "code",
   "execution_count": 6,
   "id": "6c3257cd",
   "metadata": {},
   "outputs": [
    {
     "data": {
      "text/html": [
       "<div>\n",
       "<style scoped>\n",
       "    .dataframe tbody tr th:only-of-type {\n",
       "        vertical-align: middle;\n",
       "    }\n",
       "\n",
       "    .dataframe tbody tr th {\n",
       "        vertical-align: top;\n",
       "    }\n",
       "\n",
       "    .dataframe thead th {\n",
       "        text-align: right;\n",
       "    }\n",
       "</style>\n",
       "<table border=\"1\" class=\"dataframe\">\n",
       "  <thead>\n",
       "    <tr style=\"text-align: right;\">\n",
       "      <th></th>\n",
       "      <th>cod_upp</th>\n",
       "      <th>apreensao_drogas</th>\n",
       "    </tr>\n",
       "  </thead>\n",
       "  <tbody>\n",
       "    <tr>\n",
       "      <th>0</th>\n",
       "      <td>1</td>\n",
       "      <td>228</td>\n",
       "    </tr>\n",
       "    <tr>\n",
       "      <th>1</th>\n",
       "      <td>2</td>\n",
       "      <td>2818</td>\n",
       "    </tr>\n",
       "  </tbody>\n",
       "</table>\n",
       "</div>"
      ],
      "text/plain": [
       "   cod_upp  apreensao_drogas\n",
       "0        1               228\n",
       "1        2              2818"
      ]
     },
     "execution_count": 6,
     "metadata": {},
     "output_type": "execute_result"
    }
   ],
   "source": [
    "#Soma os valores da coluna de apreensão de drogas (apreensao_drogas) por UPP (cod_upp)\n",
    "dfBDApreensaoDrogas = dfBD.groupby(\"cod_upp\")[\"apreensao_drogas\"].sum().reset_index()\n",
    "dfBDApreensaoDrogas.head(2)\n"
   ]
  },
  {
   "cell_type": "code",
   "execution_count": 7,
   "id": "1d5977c1",
   "metadata": {},
   "outputs": [
    {
     "data": {
      "text/plain": [
       "array([ 228, 2818,  310,  361,  655,  538,  716,  555,  205,  389,  306,\n",
       "        441,  312,  486,  226,  500,  774,  618,  302,  259,  286,  295,\n",
       "        257,  163,  121,  107,  549,  636, 1132,  526,  627,  275,  122,\n",
       "        598,  415,  245,  590, 1363])"
      ]
     },
     "execution_count": 7,
     "metadata": {},
     "output_type": "execute_result"
    }
   ],
   "source": [
    "#Cria o array com os dados de apreensão de drogas\n",
    "arrayApreensaoDrogas = np.array(dfBDApreensaoDrogas[\"apreensao_drogas\"])\n",
    "arrayApreensaoDrogas"
   ]
  },
  {
   "cell_type": "code",
   "execution_count": 8,
   "id": "f3f62c78",
   "metadata": {},
   "outputs": [
    {
     "name": "stdout",
     "output_type": "stream",
     "text": [
      "Média     = 508.05\n",
      "Mediana   = 402.00\n",
      "Q1        = 263.00\n",
      "Q2        = 402.00\n",
      "Q3        = 596.00\n",
      "Distância = 26.38 %\n",
      "Lim. Sup. = 1095.50\n",
      "Lim. Inf. = -236.50\n"
     ]
    }
   ],
   "source": [
    "#Cálculos estatísticos\n",
    "mediaAPDrogas = np.mean(arrayApreensaoDrogas)\n",
    "medianaAPDrogas = np.median(arrayApreensaoDrogas)\n",
    "q1APDrogas = np.percentile(arrayApreensaoDrogas, 25)\n",
    "q2APDrogas = np.percentile(arrayApreensaoDrogas, 50)\n",
    "q3APDrogas = np.percentile(arrayApreensaoDrogas, 75)\n",
    "distanciaAPDrogas = (mediaAPDrogas - medianaAPDrogas) / medianaAPDrogas\n",
    "iqrAPDrogas = q3APDrogas - q1APDrogas\n",
    "limSupAPDrogas = q3APDrogas + (1.5 * iqrAPDrogas)\n",
    "limInfAPDrogas = q1APDrogas - (1.5 * iqrAPDrogas)\n",
    "\n",
    "print(f'Média     = {mediaAPDrogas:.2f}')\n",
    "print(f'Mediana   = {medianaAPDrogas:.2f}')\n",
    "print(f'Q1        = {q1APDrogas:.2f}')\n",
    "print(f'Q2        = {q2APDrogas:.2f}')\n",
    "print(f'Q3        = {q3APDrogas:.2f}')\n",
    "print(f'Distância = {distanciaAPDrogas * 100:.2f} %')       #Em percentual\n",
    "print(f'Lim. Sup. = {limSupAPDrogas:.2f}')\n",
    "print(f'Lim. Inf. = {limInfAPDrogas:.2f}')"
   ]
  },
  {
   "cell_type": "code",
   "execution_count": 9,
   "id": "0604fc66",
   "metadata": {},
   "outputs": [
    {
     "data": {
      "text/html": [
       "<div>\n",
       "<style scoped>\n",
       "    .dataframe tbody tr th:only-of-type {\n",
       "        vertical-align: middle;\n",
       "    }\n",
       "\n",
       "    .dataframe tbody tr th {\n",
       "        vertical-align: top;\n",
       "    }\n",
       "\n",
       "    .dataframe thead th {\n",
       "        text-align: right;\n",
       "    }\n",
       "</style>\n",
       "<table border=\"1\" class=\"dataframe\">\n",
       "  <thead>\n",
       "    <tr style=\"text-align: right;\">\n",
       "      <th></th>\n",
       "      <th>cod_upp</th>\n",
       "      <th>apreensao_drogas</th>\n",
       "    </tr>\n",
       "  </thead>\n",
       "  <tbody>\n",
       "    <tr>\n",
       "      <th>1</th>\n",
       "      <td>2</td>\n",
       "      <td>2818</td>\n",
       "    </tr>\n",
       "    <tr>\n",
       "      <th>37</th>\n",
       "      <td>38</td>\n",
       "      <td>1363</td>\n",
       "    </tr>\n",
       "    <tr>\n",
       "      <th>28</th>\n",
       "      <td>29</td>\n",
       "      <td>1132</td>\n",
       "    </tr>\n",
       "  </tbody>\n",
       "</table>\n",
       "</div>"
      ],
      "text/plain": [
       "    cod_upp  apreensao_drogas\n",
       "1         2              2818\n",
       "37       38              1363\n",
       "28       29              1132"
      ]
     },
     "execution_count": 9,
     "metadata": {},
     "output_type": "execute_result"
    }
   ],
   "source": [
    "#UPPs que representam os OUTLIERS com MAIOR número de apreensão de drogas\n",
    "dpApreensaoDrogasMaiorOutlier = dfBDApreensaoDrogas.loc[dfBDApreensaoDrogas[\"apreensao_drogas\"] >= limSupAPDrogas]\n",
    "dpApreensaoDrogasMaiorOutlier.sort_values(by=\"apreensao_drogas\", ascending=False)"
   ]
  },
  {
   "cell_type": "code",
   "execution_count": 10,
   "id": "4872cf2b",
   "metadata": {},
   "outputs": [],
   "source": [
    "##########################################################################################################\n",
    "#RESPOSTA:\n",
    "#As UPPs acima estão acima do limite superior e são consideradas OUTLIERS em relação a apreensão de drogas\n",
    "##########################################################################################################"
   ]
  }
 ],
 "metadata": {
  "kernelspec": {
   "display_name": "Python 3",
   "language": "python",
   "name": "python3"
  },
  "language_info": {
   "codemirror_mode": {
    "name": "ipython",
    "version": 3
   },
   "file_extension": ".py",
   "mimetype": "text/x-python",
   "name": "python",
   "nbconvert_exporter": "python",
   "pygments_lexer": "ipython3",
   "version": "3.11.4"
  }
 },
 "nbformat": 4,
 "nbformat_minor": 5
}
