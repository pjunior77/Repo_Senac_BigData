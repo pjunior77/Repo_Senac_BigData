{
 "cells": [
  {
   "cell_type": "code",
   "execution_count": 1,
   "id": "5fb4d4f7",
   "metadata": {},
   "outputs": [],
   "source": [
    "#Importo as bibliotecas\n",
    "import pandas as pd\n",
    "import numpy as np"
   ]
  },
  {
   "cell_type": "code",
   "execution_count": 2,
   "id": "79832b02",
   "metadata": {},
   "outputs": [
    {
     "data": {
      "text/html": [
       "<div>\n",
       "<style scoped>\n",
       "    .dataframe tbody tr th:only-of-type {\n",
       "        vertical-align: middle;\n",
       "    }\n",
       "\n",
       "    .dataframe tbody tr th {\n",
       "        vertical-align: top;\n",
       "    }\n",
       "\n",
       "    .dataframe thead th {\n",
       "        text-align: right;\n",
       "    }\n",
       "</style>\n",
       "<table border=\"1\" class=\"dataframe\">\n",
       "  <thead>\n",
       "    <tr style=\"text-align: right;\">\n",
       "      <th></th>\n",
       "      <th>cod_upp</th>\n",
       "      <th>upp</th>\n",
       "      <th>ano</th>\n",
       "      <th>mes</th>\n",
       "      <th>hom_doloso</th>\n",
       "      <th>lesao_corp_morte</th>\n",
       "      <th>latrocinio</th>\n",
       "      <th>hom_por_interv_policial</th>\n",
       "      <th>tentat_hom</th>\n",
       "      <th>lesao_corp_dolosa</th>\n",
       "      <th>...</th>\n",
       "      <th>armas_apreendidas</th>\n",
       "      <th>cump_mandado_prisao</th>\n",
       "      <th>ocorr_flagrante</th>\n",
       "      <th>ameaca</th>\n",
       "      <th>pessoas_desaparecidas</th>\n",
       "      <th>encontro_cadaver</th>\n",
       "      <th>encontro_ossada</th>\n",
       "      <th>pol_militares_mortos_serv</th>\n",
       "      <th>pol_civis_mortos_serv</th>\n",
       "      <th>registro_ocorrencias</th>\n",
       "    </tr>\n",
       "  </thead>\n",
       "  <tbody>\n",
       "    <tr>\n",
       "      <th>0</th>\n",
       "      <td>1</td>\n",
       "      <td>Santa Marta</td>\n",
       "      <td>2007</td>\n",
       "      <td>1</td>\n",
       "      <td>0</td>\n",
       "      <td>0</td>\n",
       "      <td>0</td>\n",
       "      <td>0</td>\n",
       "      <td>0</td>\n",
       "      <td>1</td>\n",
       "      <td>...</td>\n",
       "      <td>2</td>\n",
       "      <td>1</td>\n",
       "      <td>0</td>\n",
       "      <td>0</td>\n",
       "      <td>0</td>\n",
       "      <td>0</td>\n",
       "      <td>0</td>\n",
       "      <td>0</td>\n",
       "      <td>0</td>\n",
       "      <td>11</td>\n",
       "    </tr>\n",
       "    <tr>\n",
       "      <th>1</th>\n",
       "      <td>2</td>\n",
       "      <td>Cidade de Deus</td>\n",
       "      <td>2007</td>\n",
       "      <td>1</td>\n",
       "      <td>3</td>\n",
       "      <td>0</td>\n",
       "      <td>0</td>\n",
       "      <td>0</td>\n",
       "      <td>1</td>\n",
       "      <td>18</td>\n",
       "      <td>...</td>\n",
       "      <td>7</td>\n",
       "      <td>2</td>\n",
       "      <td>11</td>\n",
       "      <td>7</td>\n",
       "      <td>2</td>\n",
       "      <td>0</td>\n",
       "      <td>0</td>\n",
       "      <td>0</td>\n",
       "      <td>0</td>\n",
       "      <td>98</td>\n",
       "    </tr>\n",
       "  </tbody>\n",
       "</table>\n",
       "<p>2 rows × 42 columns</p>\n",
       "</div>"
      ],
      "text/plain": [
       "   cod_upp             upp   ano  mes  hom_doloso  lesao_corp_morte  \\\n",
       "0        1     Santa Marta  2007    1           0                 0   \n",
       "1        2  Cidade de Deus  2007    1           3                 0   \n",
       "\n",
       "   latrocinio  hom_por_interv_policial  tentat_hom  lesao_corp_dolosa  ...  \\\n",
       "0           0                        0           0                  1  ...   \n",
       "1           0                        0           1                 18  ...   \n",
       "\n",
       "   armas_apreendidas  cump_mandado_prisao  ocorr_flagrante  ameaca  \\\n",
       "0                  2                    1                0       0   \n",
       "1                  7                    2               11       7   \n",
       "\n",
       "   pessoas_desaparecidas  encontro_cadaver  encontro_ossada  \\\n",
       "0                      0                 0                0   \n",
       "1                      2                 0                0   \n",
       "\n",
       "   pol_militares_mortos_serv  pol_civis_mortos_serv  registro_ocorrencias  \n",
       "0                          0                      0                    11  \n",
       "1                          0                      0                    98  \n",
       "\n",
       "[2 rows x 42 columns]"
      ]
     },
     "execution_count": 2,
     "metadata": {},
     "output_type": "execute_result"
    }
   ],
   "source": [
    "#Carrego a base de dados\n",
    "dfGeral = pd.read_csv(\"https://www.ispdados.rj.gov.br/Arquivos/UppEvolucaoMensalDeTitulos.csv\", sep=\";\", encoding=\"latin1\")\n",
    "dfGeral.head(2)"
   ]
  },
  {
   "cell_type": "code",
   "execution_count": 5,
   "id": "bb6a8a17",
   "metadata": {},
   "outputs": [
    {
     "data": {
      "text/html": [
       "<div>\n",
       "<style scoped>\n",
       "    .dataframe tbody tr th:only-of-type {\n",
       "        vertical-align: middle;\n",
       "    }\n",
       "\n",
       "    .dataframe tbody tr th {\n",
       "        vertical-align: top;\n",
       "    }\n",
       "\n",
       "    .dataframe thead th {\n",
       "        text-align: right;\n",
       "    }\n",
       "</style>\n",
       "<table border=\"1\" class=\"dataframe\">\n",
       "  <thead>\n",
       "    <tr style=\"text-align: right;\">\n",
       "      <th></th>\n",
       "      <th>cod_upp</th>\n",
       "      <th>registro_ocorrencias</th>\n",
       "    </tr>\n",
       "  </thead>\n",
       "  <tbody>\n",
       "    <tr>\n",
       "      <th>0</th>\n",
       "      <td>1</td>\n",
       "      <td>9.290476</td>\n",
       "    </tr>\n",
       "    <tr>\n",
       "      <th>1</th>\n",
       "      <td>2</td>\n",
       "      <td>110.566667</td>\n",
       "    </tr>\n",
       "  </tbody>\n",
       "</table>\n",
       "</div>"
      ],
      "text/plain": [
       "   cod_upp  registro_ocorrencias\n",
       "0        1              9.290476\n",
       "1        2            110.566667"
      ]
     },
     "execution_count": 5,
     "metadata": {},
     "output_type": "execute_result"
    }
   ],
   "source": [
    "#Calculo a média dos valores das ocorrências (registro_ocorrencias) por UPP (cod_upp)\n",
    "dfOcorrenciasUPP = dfGeral.groupby(\"cod_upp\")[\"registro_ocorrencias\"].mean().reset_index()\n",
    "dfOcorrenciasUPP.head(2)"
   ]
  },
  {
   "cell_type": "code",
   "execution_count": 6,
   "id": "d09ecad4",
   "metadata": {},
   "outputs": [
    {
     "data": {
      "text/plain": [
       "<NumpyExtensionArray>\n",
       "[ 9.290476190476191, 110.56666666666666,  27.80952380952381,\n",
       " 11.438095238095238, 20.057142857142857, 21.347619047619048,\n",
       " 28.866666666666667, 26.442857142857143,  7.095238095238095,\n",
       " 24.204761904761906,  16.85238095238095,  23.28095238095238,\n",
       "  14.99047619047619,  17.52857142857143, 11.290476190476191,\n",
       " 24.438095238095237,  37.01428571428571,  29.52857142857143,\n",
       "  17.28095238095238, 14.771428571428572,  16.68095238095238,\n",
       "  22.82857142857143, 10.880952380952381, 11.980952380952381,\n",
       " 6.0476190476190474,  7.052380952380952, 23.966666666666665,\n",
       "  60.89523809523809,  60.72857142857143, 22.038095238095238,\n",
       "               69.4, 14.128571428571428,  4.252380952380952,\n",
       "  13.10952380952381,  39.50952380952381, 31.433333333333334,\n",
       "  34.59047619047619,  131.7952380952381]\n",
       "Length: 38, dtype: float64"
      ]
     },
     "execution_count": 6,
     "metadata": {},
     "output_type": "execute_result"
    }
   ],
   "source": [
    "#Crio o array com as ocorrências das UPPs\n",
    "arrayOcorrenciasUPP = pd.array(dfOcorrenciasUPP[\"registro_ocorrencias\"])\n",
    "arrayOcorrenciasUPP"
   ]
  },
  {
   "cell_type": "code",
   "execution_count": 7,
   "id": "227fa579",
   "metadata": {},
   "outputs": [
    {
     "name": "stdout",
     "output_type": "stream",
     "text": [
      "Média     = 28.30\n",
      "Mediana   = 21.69\n",
      "Q1        = 13.36\n",
      "Q2        = 21.69\n",
      "Q3        = 29.36\n",
      "Distância = 30.46 %\n",
      "Lim. Sup. = 53.36\n",
      "Lim. Inf. = -10.63\n"
     ]
    }
   ],
   "source": [
    "#Cálculos estatísticos\n",
    "media = np.mean(arrayOcorrenciasUPP)\n",
    "mediana = np.median(arrayOcorrenciasUPP)\n",
    "q1 = np.percentile(arrayOcorrenciasUPP, 25)\n",
    "q2 = np.percentile(arrayOcorrenciasUPP, 50)\n",
    "q3 = np.percentile(arrayOcorrenciasUPP, 75)\n",
    "distancia = (media - mediana) / mediana\n",
    "iqr = q3 - q1\n",
    "limSuperior = q3 + (1.5 * iqr)\n",
    "limInferior = q1 - (1.5 * iqr)\n",
    "\n",
    "print(f'Média     = {media:.2f}')\n",
    "print(f'Mediana   = {mediana:.2f}')\n",
    "print(f'Q1        = {q1:.2f}')\n",
    "print(f'Q2        = {q2:.2f}')\n",
    "print(f'Q3        = {q3:.2f}')\n",
    "print(f'Distância = {distancia * 100:.2f} %')       #Em percentual\n",
    "print(f'Lim. Sup. = {limSuperior:.2f}')\n",
    "print(f'Lim. Inf. = {limInferior:.2f}')"
   ]
  },
  {
   "cell_type": "code",
   "execution_count": 9,
   "id": "7dd975d7",
   "metadata": {},
   "outputs": [
    {
     "data": {
      "text/html": [
       "<div>\n",
       "<style scoped>\n",
       "    .dataframe tbody tr th:only-of-type {\n",
       "        vertical-align: middle;\n",
       "    }\n",
       "\n",
       "    .dataframe tbody tr th {\n",
       "        vertical-align: top;\n",
       "    }\n",
       "\n",
       "    .dataframe thead th {\n",
       "        text-align: right;\n",
       "    }\n",
       "</style>\n",
       "<table border=\"1\" class=\"dataframe\">\n",
       "  <thead>\n",
       "    <tr style=\"text-align: right;\">\n",
       "      <th></th>\n",
       "      <th>cod_upp</th>\n",
       "      <th>registro_ocorrencias</th>\n",
       "    </tr>\n",
       "  </thead>\n",
       "  <tbody>\n",
       "    <tr>\n",
       "      <th>1</th>\n",
       "      <td>2</td>\n",
       "      <td>110.566667</td>\n",
       "    </tr>\n",
       "    <tr>\n",
       "      <th>27</th>\n",
       "      <td>28</td>\n",
       "      <td>60.895238</td>\n",
       "    </tr>\n",
       "    <tr>\n",
       "      <th>28</th>\n",
       "      <td>29</td>\n",
       "      <td>60.728571</td>\n",
       "    </tr>\n",
       "    <tr>\n",
       "      <th>30</th>\n",
       "      <td>31</td>\n",
       "      <td>69.400000</td>\n",
       "    </tr>\n",
       "    <tr>\n",
       "      <th>37</th>\n",
       "      <td>38</td>\n",
       "      <td>131.795238</td>\n",
       "    </tr>\n",
       "  </tbody>\n",
       "</table>\n",
       "</div>"
      ],
      "text/plain": [
       "    cod_upp  registro_ocorrencias\n",
       "1         2            110.566667\n",
       "27       28             60.895238\n",
       "28       29             60.728571\n",
       "30       31             69.400000\n",
       "37       38            131.795238"
      ]
     },
     "execution_count": 9,
     "metadata": {},
     "output_type": "execute_result"
    }
   ],
   "source": [
    "#Verifico os Outliers\n",
    "dfOutliersOcorrenciasUPP = dfOcorrenciasUPP.loc[dfOcorrenciasUPP[\"registro_ocorrencias\"] >= limSuperior]\n",
    "dfOutliersOcorrenciasUPP"
   ]
  },
  {
   "cell_type": "code",
   "execution_count": 11,
   "id": "2433d830",
   "metadata": {},
   "outputs": [
    {
     "name": "stderr",
     "output_type": "stream",
     "text": [
      "C:\\Users\\paulo.frederico\\AppData\\Local\\Temp\\ipykernel_23312\\1233895625.py:2: FutureWarning: Starting with pandas version 3.0 all arguments of to_csv except for the argument 'path_or_buf' will be keyword-only.\n",
      "  dfOutliersOcorrenciasUPP.to_csv(\"dfOutliersMediaOcorrenciasUPP.csv\", \";\", index=False)\n"
     ]
    }
   ],
   "source": [
    "#Exporto os Outliers para um arquivo CSV\n",
    "dfOutliersOcorrenciasUPP.to_csv(\"dfOutliersMediaOcorrenciasUPP.csv\", \";\", index=False)"
   ]
  }
 ],
 "metadata": {
  "kernelspec": {
   "display_name": "Python 3",
   "language": "python",
   "name": "python3"
  },
  "language_info": {
   "codemirror_mode": {
    "name": "ipython",
    "version": 3
   },
   "file_extension": ".py",
   "mimetype": "text/x-python",
   "name": "python",
   "nbconvert_exporter": "python",
   "pygments_lexer": "ipython3",
   "version": "3.11.4"
  }
 },
 "nbformat": 4,
 "nbformat_minor": 5
}
