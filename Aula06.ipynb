{
 "cells": [
  {
   "cell_type": "code",
   "execution_count": 31,
   "metadata": {},
   "outputs": [
    {
     "name": "stdout",
     "output_type": "stream",
     "text": [
      "{'nome': 'Ana', 'idade': 19, 'nota': 9.0}\n",
      "<class 'dict'>\n"
     ]
    }
   ],
   "source": [
    "#Cria um dicionário\n",
    "dados = {}\n",
    "aluno = {\"nome\":\"Ana\", \"idade\":19, \"nota\":9.0}\n",
    "print(aluno)\n",
    "print(type(aluno))"
   ]
  },
  {
   "cell_type": "code",
   "execution_count": 26,
   "metadata": {},
   "outputs": [
    {
     "name": "stdout",
     "output_type": "stream",
     "text": [
      "Ana\n"
     ]
    }
   ],
   "source": [
    "#Acessar o valor\n",
    "print(aluno[\"nome\"])"
   ]
  },
  {
   "cell_type": "code",
   "execution_count": 27,
   "metadata": {},
   "outputs": [
    {
     "name": "stdout",
     "output_type": "stream",
     "text": [
      "{'nome': 'Ana', 'idade': 19, 'nota': 9.5, 'turma': '3A'}\n"
     ]
    }
   ],
   "source": [
    "#Adicionar ou modificar valores\n",
    "aluno[\"nota\"] = 9.5\n",
    "aluno[\"turma\"] = \"3A\"\n",
    "print(aluno)"
   ]
  },
  {
   "cell_type": "code",
   "execution_count": 28,
   "metadata": {},
   "outputs": [
    {
     "name": "stdout",
     "output_type": "stream",
     "text": [
      "{'nome': 'Ana', 'nota': 9.5, 'turma': '3A'}\n"
     ]
    }
   ],
   "source": [
    "#Apagar um registro (apaa a chave e o valor)\n",
    "del aluno[\"idade\"]\n",
    "print(aluno)"
   ]
  },
  {
   "cell_type": "code",
   "execution_count": 30,
   "metadata": {},
   "outputs": [
    {
     "name": "stdout",
     "output_type": "stream",
     "text": [
      "dict_keys(['nome', 'nota', 'turma'])\n",
      "dict_values(['Ana', 9.5, '3A'])\n",
      "dict_items([('nome', 'Ana'), ('nota', 9.5), ('turma', '3A')])\n",
      "<class 'dict'>\n"
     ]
    }
   ],
   "source": [
    "#Obter apenas chaves, valores ou ambos\n",
    "print(aluno.keys())             #Chaves\n",
    "print(aluno.values())           #Valores\n",
    "print(aluno.items())            #Ambos (par de informação)"
   ]
  },
  {
   "cell_type": "code",
   "execution_count": 40,
   "metadata": {},
   "outputs": [
    {
     "name": "stdout",
     "output_type": "stream",
     "text": [
      "Nome encontrado!\n",
      "Nome não encontrado!\n"
     ]
    }
   ],
   "source": [
    "#Verificar se a chave existe\n",
    "if \"nome\" in aluno:                #Procura pela chave\n",
    "    print(\"Nome encontrado!\")\n",
    "else:\n",
    "    print(\"Nome não encontrado!\")\n",
    "    \n",
    "if \"time\" in aluno:\n",
    "    print(\"Nome encontrado!\")\n",
    "else:\n",
    "    print(\"Nome não encontrado!\")"
   ]
  },
  {
   "cell_type": "code",
   "execution_count": 36,
   "metadata": {},
   "outputs": [
    {
     "name": "stdout",
     "output_type": "stream",
     "text": [
      "3\n"
     ]
    }
   ],
   "source": [
    "#Tamanho do dicionário\n",
    "print(len(aluno))"
   ]
  },
  {
   "cell_type": "code",
   "execution_count": null,
   "metadata": {},
   "outputs": [],
   "source": [
    "#Limpar o dicionário\n",
    "aluno.clear()\n",
    "print(aluno)"
   ]
  },
  {
   "cell_type": "code",
   "execution_count": 41,
   "metadata": {},
   "outputs": [
    {
     "name": "stdout",
     "output_type": "stream",
     "text": [
      "{'nome': 'Ana', 'idade': 19, 'nota': 9.0}\n"
     ]
    }
   ],
   "source": [
    "#Copiar um dicionário\n",
    "copia = aluno.copy()\n",
    "print (copia)"
   ]
  },
  {
   "cell_type": "code",
   "execution_count": 46,
   "metadata": {},
   "outputs": [
    {
     "name": "stdout",
     "output_type": "stream",
     "text": [
      "Par: nome: Ana\n",
      "Par: idade: 19\n",
      "Par: nota: 9.0\n",
      "Chave: nome\n",
      "Chave: idade\n",
      "Chave: nota\n",
      "Valor: Ana\n",
      "Valor: 19\n",
      "Valor: 9.0\n"
     ]
    }
   ],
   "source": [
    "#Iterar sobre o dicionário\n",
    "for chave, valor in aluno.items():      #Tem que ser na ordem chave, valor porque está usando \".itens\" \n",
    "    print(f\"Par: {chave}: {valor}\")\n",
    "\n",
    "for chave in aluno.keys():              #Basta só uma variável, porque está usando \".keys\" \n",
    "    print(f\"Chave: {chave}\")\n",
    "\n",
    "for values in aluno.values():           #Basta só uma variável, porque está usando \".values\" \n",
    "    print(f\"Valor: {values}\")"
   ]
  },
  {
   "cell_type": "code",
   "execution_count": 51,
   "metadata": {},
   "outputs": [
    {
     "name": "stdout",
     "output_type": "stream",
     "text": [
      "Ana\n",
      "Chave inexistente\n"
     ]
    },
    {
     "ename": "KeyError",
     "evalue": "'endereco'",
     "output_type": "error",
     "traceback": [
      "\u001b[31m---------------------------------------------------------------------------\u001b[39m",
      "\u001b[31mKeyError\u001b[39m                                  Traceback (most recent call last)",
      "\u001b[36mCell\u001b[39m\u001b[36m \u001b[39m\u001b[32mIn[51]\u001b[39m\u001b[32m, line 4\u001b[39m\n\u001b[32m      2\u001b[39m \u001b[38;5;28mprint\u001b[39m(aluno.get(\u001b[33m\"\u001b[39m\u001b[33mnome\u001b[39m\u001b[33m\"\u001b[39m))\n\u001b[32m      3\u001b[39m \u001b[38;5;28mprint\u001b[39m(aluno.get(\u001b[33m\"\u001b[39m\u001b[33mendereco\u001b[39m\u001b[33m\"\u001b[39m,\u001b[33m\"\u001b[39m\u001b[33mChave inexistente\u001b[39m\u001b[33m\"\u001b[39m))     \u001b[38;5;66;03m#É bom colocar para se não existir a chave, retornar o valor\u001b[39;00m\n\u001b[32m----> \u001b[39m\u001b[32m4\u001b[39m \u001b[38;5;28mprint\u001b[39m(\u001b[43maluno\u001b[49m\u001b[43m[\u001b[49m\u001b[33;43m\"\u001b[39;49m\u001b[33;43mendereco\u001b[39;49m\u001b[33;43m\"\u001b[39;49m\u001b[43m]\u001b[49m)                             \u001b[38;5;66;03m#Dá erro\u001b[39;00m\n",
      "\u001b[31mKeyError\u001b[39m: 'endereco'"
     ]
    }
   ],
   "source": [
    "#Usar get() para acessar valores    (Porque não dá erro de execução)\n",
    "print(aluno.get(\"nome\"))\n",
    "print(aluno.get(\"endereco\",\"Chave inexistente\"))     #É bom colocar para se não existir a chave, retornar o valor\n",
    "print(aluno[\"endereco\"])                             #Dá erro"
   ]
  },
  {
   "cell_type": "code",
   "execution_count": 52,
   "metadata": {},
   "outputs": [
    {
     "name": "stdout",
     "output_type": "stream",
     "text": [
      "{'nome': 'Ana', 'idade': 19, 'nota': 10, 'cidade': 'Rio'}\n"
     ]
    }
   ],
   "source": [
    "#Atualizar um dicionário com outro  (Se não tiver uma chave ele automaticamente cria)\n",
    "dados_novos = {\"nota\": 10, \"cidade\": \"Rio\"}\n",
    "aluno.update(dados_novos)\n",
    "print(aluno)"
   ]
  },
  {
   "cell_type": "code",
   "execution_count": 55,
   "metadata": {},
   "outputs": [
    {
     "name": "stdout",
     "output_type": "stream",
     "text": [
      "Chave não encontrada\n"
     ]
    }
   ],
   "source": [
    "#Apagar com retorno\n",
    "nota = aluno.pop(\"nota\", \"Chave não encontrada\")\n",
    "print(nota)"
   ]
  },
  {
   "cell_type": "code",
   "execution_count": 56,
   "metadata": {},
   "outputs": [
    {
     "name": "stdout",
     "output_type": "stream",
     "text": [
      "{'Produto': ['Fogão'], 'Preço': [600.0]}\n"
     ]
    }
   ],
   "source": [
    "produtos = {'Produto': [], 'Preço': []}     #O campo valor possui uma lista de valores []\n",
    "\n",
    "nomeProduto = input('Digite o nome do produto que deseja caastrar: ')\n",
    "valorProduto = float(input(f'Digite o valor do produto {nomeProduto}: '))\n",
    "\n",
    "produtos['Produto'].append(nomeProduto)\n",
    "produtos['Preço'].append(valorProduto)\n",
    "\n",
    "print(produtos)\n"
   ]
  }
 ],
 "metadata": {
  "kernelspec": {
   "display_name": "Python 3",
   "language": "python",
   "name": "python3"
  },
  "language_info": {
   "codemirror_mode": {
    "name": "ipython",
    "version": 3
   },
   "file_extension": ".py",
   "mimetype": "text/x-python",
   "name": "python",
   "nbconvert_exporter": "python",
   "pygments_lexer": "ipython3",
   "version": "3.11.4"
  },
  "orig_nbformat": 4
 },
 "nbformat": 4,
 "nbformat_minor": 2
}
