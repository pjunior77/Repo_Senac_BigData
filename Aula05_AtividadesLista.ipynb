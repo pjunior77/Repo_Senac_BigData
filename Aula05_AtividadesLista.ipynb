{
 "cells": [
  {
   "cell_type": "markdown",
   "id": "c87dedf1",
   "metadata": {},
   "source": [
    "### AULA 05 - Atividades Lista"
   ]
  },
  {
   "cell_type": "code",
   "execution_count": 10,
   "id": "bf1673c6",
   "metadata": {},
   "outputs": [
    {
     "name": "stdout",
     "output_type": "stream",
     "text": [
      "Lista de alunos: ['João', 'Maria', 'Florentina', 'Huguinho', 'Minie', 'Batman', 'Robin']\n",
      "Lista de alunos: ['João', 'Maria', 'Mulher Gato', 'Huguinho', 'Minie', 'Batman', 'Robin']\n",
      "Lista de alunos: ['João', 'Maria', 'Mulher Gato', 'Minie', 'Batman', 'Robin']\n",
      "O aluno Batman está na lista? True\n",
      "O aluno Charada está na lista? False\n",
      "Lista em ordem alfabética: ['Batman', 'João', 'Maria', 'Minie', 'Mulher Gato', 'Robin']\n",
      "O aluno Batman está na lista.\n",
      "O aluno Coringa não está na lista.\n"
     ]
    }
   ],
   "source": [
    "#Atividade 01: Cadastro de Alunos com Listas\n",
    "#Crie uma lista chamada 'alunos' com nomes fictícios\n",
    "#Substitua um nome da lista\n",
    "#Remova um aluno da lista\n",
    "#Verifique se um nome está presente na lista\n",
    "#Ordene a lista em ordem alfabética\n",
    "#Desafio: Verifique se um nome está na lista sem usar função\n",
    "\n",
    "#Cria a lista de alunos\n",
    "listaAlunos = ['João','Maria','Florentina','Huguinho','Minie','Batman','Robin']\n",
    "print(f'Lista de alunos: {listaAlunos}')\n",
    "\n",
    "#Substituindo um elemento da lista\n",
    "listaAlunos[2] = 'Mulher Gato'\n",
    "print(f'Lista de alunos: {listaAlunos}')\n",
    "\n",
    "#Removendo um elemento da lista\n",
    "listaAlunos.remove('Huguinho')\n",
    "print(f'Lista de alunos: {listaAlunos}')\n",
    "\n",
    "#Verificando se um nome está na lista\n",
    "print(f'O aluno Batman está na lista? {'Batman' in listaAlunos}')\n",
    "print(f'O aluno Charada está na lista? {'Charada' in listaAlunos}')\n",
    "\n",
    "#Ordenando a lista em ordem alfabética\n",
    "listaAlunos.sort()\n",
    "print(f'Lista em ordem alfabética: {listaAlunos}')\n",
    "\n",
    "#Procurando um nome na lista sem usar uma função\n",
    "achouNaLista = False\n",
    "for i in range(len(listaAlunos)):\n",
    "    if listaAlunos[i].upper().strip() == 'BATMAN':\n",
    "        achouNaLista = True\n",
    "\n",
    "if achouNaLista:\n",
    "    print('O aluno Batman está na lista.')\n",
    "else:\n",
    "    print('O aluno Batman não está na lista.')\n",
    "\n",
    "achouNaLista = False\n",
    "for i in range(len(listaAlunos)):\n",
    "    if listaAlunos[i].upper().strip() == 'CORINGA':\n",
    "        achouNaLista = True\n",
    "\n",
    "if achouNaLista:\n",
    "    print('O aluno Coringa está na lista.')\n",
    "else:\n",
    "    print('O aluno Coringa não está na lista.')\n"
   ]
  },
  {
   "cell_type": "code",
   "execution_count": null,
   "id": "d4eaa040",
   "metadata": {},
   "outputs": [
    {
     "name": "stdout",
     "output_type": "stream",
     "text": [
      "Lista de tarefas: ['Beber água', 'escovar os dentes', 'Ouvir música', 'Tomar café.', 'Ler um livro']\n",
      "Incluindo um item na posição 1: ['Beber água', 'Jogar PS5', 'escovar os dentes', 'Ouvir música', 'Tomar café.', 'Ler um livro']\n",
      "Excluindo o último item: ['Beber água', 'Jogar PS5', 'escovar os dentes', 'Ouvir música', 'Tomar café.']\n",
      "Exibindo as duas primeiras tarefas: ['Beber água', 'Jogar PS5']\n",
      "Lista de tarefas: []\n",
      "Cópia da lista de tarefas: ['Beber água', 'Jogar PS5', 'escovar os dentes', 'Ouvir música', 'Tomar café.']\n"
     ]
    }
   ],
   "source": [
    "#Atividade 02: Lista de Tarefas com Prioridade\n",
    "#Insira uma nova tarefa na posição 1 da lista\n",
    "#Remova a última tarefa da lista\n",
    "#Mostre as duas primeiras tarefas usando slicing\n",
    "#Crie uma cópia da lista e limpe a original\n",
    "\n",
    "#Cria uma lista de tarefas\n",
    "listaTarefas = ['Beber água','escovar os dentes','Ouvir música','Tomar café.','Ler um livro']\n",
    "print(f'Lista de tarefas: {listaTarefas}')\n",
    "\n",
    "#Inserindo uma nova tarefa na posição 1\n",
    "listaTarefas.insert(1,'Jogar PS5')\n",
    "print(f'Incluindo um item na posição 1: {listaTarefas}')\n",
    "\n",
    "#Remove a última tareda da lista\n",
    "listaTarefas.pop(-1)\n",
    "print(f'Excluindo o último item: {listaTarefas}')\n",
    "\n",
    "#Mostrando as duas primeiras tarefas usando slicing\n",
    "print(f'Exibindo as duas primeiras tarefas: {listaTarefas[:2]}')\n",
    "\n",
    "#Criando uma cópia da lista e limpando a original\n",
    "listaTarefasCopia = listaTarefas.copy()\n",
    "listaTarefas.clear()\n",
    "print(f'Lista de tarefas: {listaTarefas}')\n",
    "print(f'Cópia da lista de tarefas: {listaTarefasCopia}')"
   ]
  }
 ],
 "metadata": {
  "kernelspec": {
   "display_name": "Python 3",
   "language": "python",
   "name": "python3"
  },
  "language_info": {
   "codemirror_mode": {
    "name": "ipython",
    "version": 3
   },
   "file_extension": ".py",
   "mimetype": "text/x-python",
   "name": "python",
   "nbconvert_exporter": "python",
   "pygments_lexer": "ipython3",
   "version": "3.13.7"
  }
 },
 "nbformat": 4,
 "nbformat_minor": 5
}
