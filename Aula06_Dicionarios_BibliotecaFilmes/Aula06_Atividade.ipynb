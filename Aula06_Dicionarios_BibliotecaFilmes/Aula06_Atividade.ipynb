{
 "cells": [
  {
   "cell_type": "markdown",
   "metadata": {},
   "source": [
    "### Aula 06 - Atividade"
   ]
  },
  {
   "cell_type": "code",
   "execution_count": 3,
   "metadata": {},
   "outputs": [
    {
     "name": "stdout",
     "output_type": "stream",
     "text": [
      "{'nome': 'mouse', 'preco': 49.9, 'estoque': 25}\n"
     ]
    }
   ],
   "source": [
    "#1- Cria o dicionário\n",
    "produto = {\"nome\":\"mouse\", \"preco\":49.90, \"estoque\":25}\n",
    "print(produto)"
   ]
  },
  {
   "cell_type": "code",
   "execution_count": 4,
   "metadata": {},
   "outputs": [
    {
     "name": "stdout",
     "output_type": "stream",
     "text": [
      "Chave: nome - Value: mouse\n",
      "Chave: preco - Value: 49.9\n",
      "Chave: estoque - Value: 25\n"
     ]
    }
   ],
   "source": [
    "#2- Exibe todos os dados do produto\n",
    "for chave, value in produto.items():\n",
    "    print(f'Chave: {chave} - Value: {value}')"
   ]
  },
  {
   "cell_type": "code",
   "execution_count": 12,
   "metadata": {},
   "outputs": [],
   "source": [
    "#3- Peça ao usuário para digitar o nome de uma chave que ele deseja consultar\n",
    "nomeChave = input(\"Qul o nome da chave deseja consultar? \")"
   ]
  },
  {
   "cell_type": "code",
   "execution_count": 13,
   "metadata": {},
   "outputs": [
    {
     "name": "stdout",
     "output_type": "stream",
     "text": [
      "Chave não encontrada.\n"
     ]
    }
   ],
   "source": [
    "#4- Use o método .get() para exibir o valor da chave informada\n",
    "print(produto.get(nomeChave,\"Chave não encontrada.\"))"
   ]
  },
  {
   "cell_type": "code",
   "execution_count": 7,
   "metadata": {},
   "outputs": [
    {
     "name": "stdout",
     "output_type": "stream",
     "text": [
      "{'nome': 'mouse', 'preco': 49.9, 'estoque': 25, 'categoria': 'Informática'}\n"
     ]
    }
   ],
   "source": [
    "#5- Adicione uma nova chave chamada \"categoria\" com o valor \"Informática\"\n",
    "produto[\"categoria\"] = \"Informática\"\n",
    "print(produto)"
   ]
  },
  {
   "cell_type": "code",
   "execution_count": 8,
   "metadata": {},
   "outputs": [
    {
     "name": "stdout",
     "output_type": "stream",
     "text": [
      "{'nome': 'mouse', 'preco': 49.9, 'estoque': 25, 'categoria': 'Informática'}\n",
      "{'nome': 'mouse', 'preco': 59.9, 'estoque': 25, 'categoria': 'Informática'}\n"
     ]
    }
   ],
   "source": [
    "#6- Modifique o preço do produto para 59.90\n",
    "print(produto)\n",
    "produto[\"preco\"] = 59.90\n",
    "print(produto)"
   ]
  },
  {
   "cell_type": "code",
   "execution_count": 10,
   "metadata": {},
   "outputs": [
    {
     "name": "stdout",
     "output_type": "stream",
     "text": [
      "{'nome': 'mouse', 'preco': 59.9, 'estoque': 25, 'categoria': 'Informática'}\n",
      "{'nome': 'mouse', 'preco': 59.9, 'categoria': 'Informática'}\n"
     ]
    }
   ],
   "source": [
    "#7- Remova a chave \"estoque\" do dicionário\n",
    "print(produto)\n",
    "del produto[\"estoque\"]\n",
    "print(produto)"
   ]
  },
  {
   "cell_type": "code",
   "execution_count": 11,
   "metadata": {},
   "outputs": [
    {
     "name": "stdout",
     "output_type": "stream",
     "text": [
      "{'nome': 'mouse', 'preco': 59.9, 'categoria': 'Informática'}\n"
     ]
    }
   ],
   "source": [
    "#8- Mostre novamente todos os dados atualizados do produto\n",
    "print(produto)"
   ]
  }
 ],
 "metadata": {
  "kernelspec": {
   "display_name": "Python 3",
   "language": "python",
   "name": "python3"
  },
  "language_info": {
   "codemirror_mode": {
    "name": "ipython",
    "version": 3
   },
   "file_extension": ".py",
   "mimetype": "text/x-python",
   "name": "python",
   "nbconvert_exporter": "python",
   "pygments_lexer": "ipython3",
   "version": "3.11.4"
  },
  "orig_nbformat": 4
 },
 "nbformat": 4,
 "nbformat_minor": 2
}
