{
 "cells": [
  {
   "cell_type": "markdown",
   "metadata": {},
   "source": [
    "# Análise de Dados - SENAC RJ\n",
    "## Aula 05\n",
    "### Revisão completa"
   ]
  },
  {
   "cell_type": "code",
   "execution_count": 5,
   "metadata": {},
   "outputs": [
    {
     "name": "stdout",
     "output_type": "stream",
     "text": [
      "Olá.\n",
      "50\n"
     ]
    }
   ],
   "source": [
    "num1 = 20\n",
    "num2 = 30\n",
    "resultado = num1 + num2\n",
    "print(resultado)"
   ]
  },
  {
   "cell_type": "code",
   "execution_count": 6,
   "metadata": {},
   "outputs": [
    {
     "name": "stdout",
     "output_type": "stream",
     "text": [
      "O resultado de 20 + 30 é 50.\n"
     ]
    }
   ],
   "source": [
    "print(f'O resultado de {num1} + {num2} é {resultado}.')"
   ]
  },
  {
   "cell_type": "code",
   "execution_count": 11,
   "metadata": {},
   "outputs": [
    {
     "name": "stdout",
     "output_type": "stream",
     "text": [
      "30\n"
     ]
    }
   ],
   "source": [
    "num3 = int(input('Digite o primeiro número: '))\n",
    "num4 = int(input('Digite o segundo número: '))\n",
    "resultado2 = num3 + num4\n",
    "print(resultado2)"
   ]
  },
  {
   "cell_type": "code",
   "execution_count": 12,
   "metadata": {},
   "outputs": [
    {
     "name": "stdout",
     "output_type": "stream",
     "text": [
      "Aprovado\n"
     ]
    }
   ],
   "source": [
    "b1 = 8.5\n",
    "b2 = 7.5\n",
    "b3 = 8.9\n",
    "b4 = 7.8\n",
    "\n",
    "media = (b1 + b2 + b3 + b4) / 4\n",
    "\n",
    "if media >= 7:\n",
    "    print('Aprovado')\n",
    "elif media >= 5 and media < 7:\n",
    "    print('Recuperação')\n",
    "else:\n",
    "    print('Reprovado')"
   ]
  },
  {
   "cell_type": "code",
   "execution_count": 16,
   "metadata": {},
   "outputs": [
    {
     "name": "stdout",
     "output_type": "stream",
     "text": [
      "Valor inválido. Digite um número inteiro.\n",
      "Valor inválido. Digite um número inteiro.\n",
      "Valor inválido. Digite um número inteiro.\n",
      "FIM\n"
     ]
    }
   ],
   "source": [
    "while True:\n",
    "    try:\n",
    "        num3 = int(input('Digite o primeiro número: '))\n",
    "        break\n",
    "    except:\n",
    "        print('Valor inválido. Digite um número inteiro.')\n",
    "\n",
    "print('FIM')"
   ]
  },
  {
   "cell_type": "code",
   "execution_count": 21,
   "metadata": {},
   "outputs": [
    {
     "name": "stdout",
     "output_type": "stream",
     "text": [
      "0\n",
      "1\n",
      "2\n",
      "3\n",
      "4\n",
      "5\n"
     ]
    }
   ],
   "source": [
    "contador = 0\n",
    "\n",
    "while contador <= 5:\n",
    "    print(contador)\n",
    "    contador += 1"
   ]
  },
  {
   "cell_type": "code",
   "execution_count": 24,
   "metadata": {},
   "outputs": [
    {
     "name": "stdout",
     "output_type": "stream",
     "text": [
      "10\n",
      "20\n",
      "30\n",
      "40\n",
      "50\n",
      "60\n",
      "70\n",
      "80\n",
      "90\n",
      "100\n"
     ]
    }
   ],
   "source": [
    "#Índice começa sempre no 0 (zero)\n",
    "for i in range(10, 101, 10):\n",
    "    print(i)"
   ]
  },
  {
   "cell_type": "code",
   "execution_count": 38,
   "metadata": {},
   "outputs": [
    {
     "name": "stdout",
     "output_type": "stream",
     "text": [
      "<class 'tuple'>\n",
      "('Fogão', 'Geladeira')\n"
     ]
    }
   ],
   "source": [
    "produtos = ('Fogão','Geladeira')        #Tupla\n",
    "tipo_dado = type(produtos)\n",
    "print(tipo_dado)\n",
    "print(produtos)\n"
   ]
  },
  {
   "cell_type": "code",
   "execution_count": 42,
   "metadata": {},
   "outputs": [
    {
     "name": "stdout",
     "output_type": "stream",
     "text": [
      "4\n"
     ]
    }
   ],
   "source": [
    "nome = 'João'\n",
    "idade = 20\n",
    "cpf = 213213723\n",
    "print(len(nome))\n",
    "#print(len(idade))           #Dá erro, o Len é só para String ou para uma estrutura em Tupla ou Lista\n",
    "\n"
   ]
  },
  {
   "cell_type": "code",
   "execution_count": 60,
   "metadata": {},
   "outputs": [
    {
     "name": "stdout",
     "output_type": "stream",
     "text": [
      "<class 'list'>\n",
      "2\n",
      "['Fogão', 'Geladeira']\n",
      "Geladeira\n"
     ]
    }
   ],
   "source": [
    "produtos = ['Fogão','Geladeira']        #Lista\n",
    "precos = [600,2500]                     #Lista\n",
    "tipo_dado = type(produtos)\n",
    "print(tipo_dado)\n",
    "print(len(produtos))\n",
    "print(produtos)\n",
    "print(produtos[1])"
   ]
  },
  {
   "cell_type": "code",
   "execution_count": 59,
   "metadata": {},
   "outputs": [
    {
     "name": "stdout",
     "output_type": "stream",
     "text": [
      "O produto Fogão custa R$ 600.\n",
      "O produto Geladeira custa R$ 2500.\n"
     ]
    }
   ],
   "source": [
    "for i in range(len(produtos)):\n",
    "    print(f'O produto {produtos[i]} custa R$ {precos[i]}.')\n",
    "          "
   ]
  },
  {
   "cell_type": "code",
   "execution_count": 73,
   "metadata": {},
   "outputs": [
    {
     "name": "stdout",
     "output_type": "stream",
     "text": [
      "ovo\n",
      "['maça', 'ovo', 'sabão', 'coca-cola', 'ovo']\n",
      "['maça', 'ovo', 'sabão']\n",
      "['chocolate', 'maça', 'ovo', 'sabão', 'coca-cola', 'ovo']\n",
      "['chocolate', 'goiaba', 'ovo', 'sabão', 'coca-cola', 'ovo']\n",
      "['chocolate', 'goiaba', 'queijo', 'ovo', 'sabão', 'coca-cola', 'ovo']\n",
      "['chocolate', 'goiaba', 'queijo', 'sabão', 'coca-cola', 'ovo']\n",
      "['goiaba', 'queijo', 'sabão', 'coca-cola', 'ovo']\n",
      "['goiaba', 'queijo', 'sabão', 'coca-cola']\n"
     ]
    }
   ],
   "source": [
    "lista = ['chocolate', 'maça', 'ovo', 'sabão', 'coca-cola', 'ovo']\n",
    "print(lista[-1])\n",
    "print(lista[1:])\n",
    "print(lista[1:4])\n",
    "print(lista)\n",
    "lista[1] = 'goiaba'\n",
    "print(lista)\n",
    "lista.insert(2, 'queijo')\n",
    "print(lista)\n",
    "lista.remove('ovo')\n",
    "print(lista)\n",
    "lista.pop(0)\n",
    "print(lista)\n",
    "lista.pop()                     #Apaga o último se não informar o índice\n",
    "print(lista)"
   ]
  }
 ],
 "metadata": {
  "kernelspec": {
   "display_name": "Python 3",
   "language": "python",
   "name": "python3"
  },
  "language_info": {
   "codemirror_mode": {
    "name": "ipython",
    "version": 3
   },
   "file_extension": ".py",
   "mimetype": "text/x-python",
   "name": "python",
   "nbconvert_exporter": "python",
   "pygments_lexer": "ipython3",
   "version": "3.11.4"
  },
  "orig_nbformat": 4
 },
 "nbformat": 4,
 "nbformat_minor": 2
}
