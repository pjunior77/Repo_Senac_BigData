{
 "cells": [
  {
   "cell_type": "code",
   "execution_count": 351,
   "id": "2c0c690f",
   "metadata": {},
   "outputs": [],
   "source": [
    "#Importo as bibliotecas\n",
    "import pandas as pd\n",
    "import numpy as np\n",
    "import matplotlib.pyplot as plt\n",
    "import random"
   ]
  },
  {
   "cell_type": "code",
   "execution_count": 352,
   "id": "e3b8b996",
   "metadata": {},
   "outputs": [
    {
     "data": {
      "text/plain": [
       "[716,\n",
       " 274,\n",
       " 472,\n",
       " 106,\n",
       " 535,\n",
       " 29,\n",
       " 511,\n",
       " 252,\n",
       " 353,\n",
       " 562,\n",
       " 314,\n",
       " 546,\n",
       " 898,\n",
       " 549,\n",
       " 149,\n",
       " 753,\n",
       " 736,\n",
       " 932,\n",
       " 158,\n",
       " 198,\n",
       " 837,\n",
       " 347,\n",
       " 448,\n",
       " 139,\n",
       " 407,\n",
       " 90,\n",
       " 734,\n",
       " 886,\n",
       " 464,\n",
       " 165,\n",
       " 274,\n",
       " 973,\n",
       " 769,\n",
       " 269,\n",
       " 172,\n",
       " 401,\n",
       " 175,\n",
       " 227,\n",
       " 341,\n",
       " 741,\n",
       " 618,\n",
       " 114,\n",
       " 779,\n",
       " 757,\n",
       " 576,\n",
       " 370,\n",
       " 761,\n",
       " 300,\n",
       " 11,\n",
       " 652,\n",
       " 863,\n",
       " 310,\n",
       " 816,\n",
       " 409,\n",
       " 947,\n",
       " 53,\n",
       " 139,\n",
       " 914,\n",
       " 919,\n",
       " 619,\n",
       " 942,\n",
       " 689,\n",
       " 527,\n",
       " 222,\n",
       " 930,\n",
       " 161,\n",
       " 341,\n",
       " 77,\n",
       " 111,\n",
       " 552,\n",
       " 705,\n",
       " 480,\n",
       " 160,\n",
       " 118,\n",
       " 400,\n",
       " 241,\n",
       " 253,\n",
       " 464,\n",
       " 681,\n",
       " 643,\n",
       " 643,\n",
       " 175,\n",
       " 493,\n",
       " 634,\n",
       " 942,\n",
       " 879,\n",
       " 997,\n",
       " 266,\n",
       " 94,\n",
       " 114,\n",
       " 544,\n",
       " 568,\n",
       " 71,\n",
       " 855,\n",
       " 778,\n",
       " 781,\n",
       " 496,\n",
       " 308,\n",
       " 491,\n",
       " 369]"
      ]
     },
     "execution_count": 352,
     "metadata": {},
     "output_type": "execute_result"
    }
   ],
   "source": [
    "#Crio a lista com os 100 valores randômicos\n",
    "listaValores = [random.randint(10, 1000) for i in range(100)]\n",
    "listaValores"
   ]
  },
  {
   "cell_type": "code",
   "execution_count": 353,
   "id": "f24fa098",
   "metadata": {},
   "outputs": [],
   "source": [
    "#Adiciono Outliers (porque o Random não garante que vai gerar valores com os seus limites)\n",
    "listaValores.append(2000)\n",
    "listaValores.append(2500)"
   ]
  },
  {
   "cell_type": "code",
   "execution_count": 354,
   "id": "444824b5",
   "metadata": {},
   "outputs": [],
   "source": [
    "#Crio um array com os valores gerados\n",
    "valores_array = np.array(listaValores)"
   ]
  },
  {
   "cell_type": "code",
   "execution_count": 355,
   "id": "b2c957d0",
   "metadata": {},
   "outputs": [
    {
     "name": "stdout",
     "output_type": "stream",
     "text": [
      "Média     = 514.94\n",
      "Mediana   = 485.50\n",
      "Q1        = 243.75\n",
      "Q2        = 485.50\n",
      "Q3        = 739.75\n",
      "Distância = 6.06 %\n",
      "Lim. Sup. = 1483.75\n",
      "Lim. Inf. = -500.25\n",
      "Minimo    = 11.00\n",
      "Maximo    = 2500.00\n",
      "Amplitude = 2489.00\n"
     ]
    }
   ],
   "source": [
    "#Cálculos estatísticos\n",
    "media = np.mean(valores_array)\n",
    "mediana = np.median(valores_array)\n",
    "q1 = np.percentile(valores_array, 25)\n",
    "q2 = np.percentile(valores_array, 50)\n",
    "q3 = np.percentile(valores_array, 75)\n",
    "distancia = (media - mediana) / mediana\n",
    "iqr = q3 - q1\n",
    "limSuperior = q3 + (1.5 * iqr)\n",
    "limInferior = q1 - (1.5 * iqr)\n",
    "minimo = np.min(valores_array)\n",
    "maximo = np.max(valores_array)\n",
    "amplitude = maximo - minimo\n",
    "\n",
    "print(f'Média     = {media:.2f}')\n",
    "print(f'Mediana   = {mediana:.2f}')\n",
    "print(f'Q1        = {q1:.2f}')\n",
    "print(f'Q2        = {q2:.2f}')\n",
    "print(f'Q3        = {q3:.2f}')\n",
    "print(f'Distância = {distancia * 100:.2f} %')       #Em percentual\n",
    "print(f'Lim. Sup. = {limSuperior:.2f}')\n",
    "print(f'Lim. Inf. = {limInferior:.2f}')\n",
    "print(f'Minimo    = {minimo:.2f}')\n",
    "print(f'Maximo    = {maximo:.2f}')\n",
    "print(f'Amplitude = {amplitude:.2f}')"
   ]
  },
  {
   "cell_type": "code",
   "execution_count": null,
   "id": "6e993178",
   "metadata": {},
   "outputs": [
    {
     "data": {
      "image/png": "[encoded data removed]",
      "text/plain": [
       "<Figure size 1000x500 with 2 Axes>"
      ]
     },
     "metadata": {},
     "output_type": "display_data"
    }
   ],
   "source": [
    "#Cria uma figura com 2 áreas de gráficos (2 linhas x 2 colunas)\n",
    "fig, axs = plt.subplots(1, 2, figsize=(10, 5))\n",
    "#axs é uma matriz só com uma linha\n",
    "\n",
    "#Gráfico 1: BOXPLOT\n",
    "axs[0].boxplot(valores_array, vert=False, showmeans=True)\n",
    "axs[0].set_title('BOXPLOT')\n",
    "\n",
    "#Gráfico 4: Quadro de texto explicativo\n",
    "axs[1].axis('off')    #Desativa os eixos para poder incluir texto\n",
    "axs[1].text(0.1, 1.0, 'Cálculos Estatísticos:', fontsize=14, color='black')\n",
    "axs[1].text(0.1, 0.80, f'Mínimo           = {minimo:.2f}', fontsize=10, color='black')\n",
    "axs[1].text(0.1, 0.75, f'Q1                  = {q1:.2f}', fontsize=10, color='black')\n",
    "axs[1].text(0.1, 0.70, f'Média             = {media:.2f}', fontsize=10, color='black')\n",
    "axs[1].text(0.1, 0.65, f'Mediana         = {mediana:.2f}', fontsize=10, color='black')\n",
    "axs[1].text(0.1, 0.60, f'Q3                  = {q3:.2f}', fontsize=10, color='black')\n",
    "axs[1].text(0.1, 0.55, f'Lim. Superior  = {limSuperior:.2f}', fontsize=10, color='black')\n",
    "axs[1].text(0.1, 0.50, f'Distância        = {distancia * 100:.2f}%', fontsize=10, color='black')\n",
    "axs[1].text(0.1, 0.45, f'Amplitude       = {amplitude:.2f}', fontsize=10, color='black')\n",
    "\n",
    "#Ajusta os espaços entre os gráficos para evitar sobreposição\n",
    "plt.tight_layout()\n",
    "\n",
    "#Exibe todos os gráficos\n",
    "plt.show()"
   ]
  }
 ],
 "metadata": {
  "kernelspec": {
   "display_name": "Python 3",
   "language": "python",
   "name": "python3"
  },
  "language_info": {
   "codemirror_mode": {
    "name": "ipython",
    "version": 3
   },
   "file_extension": ".py",
   "mimetype": "text/x-python",
   "name": "python",
   "nbconvert_exporter": "python",
   "pygments_lexer": "ipython3",
   "version": "3.11.4"
  }
 },
 "nbformat": 4,
 "nbformat_minor": 5
}
