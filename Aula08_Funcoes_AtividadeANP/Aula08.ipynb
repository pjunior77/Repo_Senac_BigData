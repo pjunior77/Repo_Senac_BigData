{
 "cells": [
  {
   "cell_type": "code",
   "execution_count": 1,
   "metadata": {},
   "outputs": [],
   "source": [
    "def multiplicacao(a,b):\n",
    "    resultado = a * b\n",
    "    print(f'O resultado de {a} * {b} é {resultado}.')\n",
    "    "
   ]
  },
  {
   "cell_type": "code",
   "execution_count": 3,
   "metadata": {},
   "outputs": [
    {
     "name": "stdout",
     "output_type": "stream",
     "text": [
      "O resultado de 5 * 3 é 15.\n"
     ]
    }
   ],
   "source": [
    "multiplicacao(5,3)"
   ]
  },
  {
   "cell_type": "code",
   "execution_count": 4,
   "metadata": {},
   "outputs": [],
   "source": [
    "def divisao(a,b):\n",
    "    resultado = a * b\n",
    "    return resultado"
   ]
  },
  {
   "cell_type": "code",
   "execution_count": 8,
   "metadata": {},
   "outputs": [
    {
     "name": "stdout",
     "output_type": "stream",
     "text": [
      "Resultado 20.\n"
     ]
    }
   ],
   "source": [
    "resultado_divisao = divisao(10,2)\n",
    "print(f'Resultado {resultado_divisao}.')"
   ]
  },
  {
   "cell_type": "code",
   "execution_count": 9,
   "metadata": {},
   "outputs": [],
   "source": [
    "def situacao_aluno(lista):\n",
    "    \n",
    "    media = sum(lista) / len(lista)\n",
    "\n",
    "    if media >=7:\n",
    "        print('Aprovado')\n",
    "    elif media >= 5 and media < 7:\n",
    "        print('Recuperação')\n",
    "    else:\n",
    "        print('Reprovado')"
   ]
  },
  {
   "cell_type": "code",
   "execution_count": 14,
   "metadata": {},
   "outputs": [
    {
     "name": "stdout",
     "output_type": "stream",
     "text": [
      "Aprovado\n",
      "Reprovado\n",
      "Recuperação\n"
     ]
    }
   ],
   "source": [
    "joao = [8,9,7,7.5]\n",
    "situacao_aluno(joao)\n",
    "\n",
    "maria = [3,5,1,6.4]\n",
    "situacao_aluno(maria)\n",
    "\n",
    "ze = [5,5]\n",
    "situacao_aluno(ze)"
   ]
  }
 ],
 "metadata": {
  "kernelspec": {
   "display_name": "Python 3",
   "language": "python",
   "name": "python3"
  },
  "language_info": {
   "codemirror_mode": {
    "name": "ipython",
    "version": 3
   },
   "file_extension": ".py",
   "mimetype": "text/x-python",
   "name": "python",
   "nbconvert_exporter": "python",
   "pygments_lexer": "ipython3",
   "version": "3.11.4"
  },
  "orig_nbformat": 4
 },
 "nbformat": 4,
 "nbformat_minor": 2
}
