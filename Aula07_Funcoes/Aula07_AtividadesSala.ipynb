{
 "cells": [
  {
   "cell_type": "code",
   "execution_count": 6,
   "metadata": {},
   "outputs": [
    {
     "name": "stdout",
     "output_type": "stream",
     "text": [
      "Par 1 - A soma de 1 + 2 é 3.\n",
      "Par 2 - A soma de 4 + 6 é 10.\n",
      "Par 3 - A soma de 7 + 4 é 11.\n"
     ]
    }
   ],
   "source": [
    "    #Atividade 01 --------------------\n",
    "#Crie um programa que leia 3 pares de números inteiros, calcule e imprima a soma de cada para separadamente\n",
    "#Utilize uma função para calcular a soma dos dois números\n",
    "\n",
    "#Cria a função soma\n",
    "def soma(num1,num2):\n",
    "    return num1 + num2\n",
    "\n",
    "#Solicita 3 pares de números\n",
    "for i in range(3):\n",
    "    #Solicita dois números\n",
    "    numero1 = int(input(f'Par {i+1} - Digite o primeiro número: '))\n",
    "    numero2 = int(input(f'Par {i+1} - Digite o segundo número: '))\n",
    "\n",
    "    #Calcula e exibe a soma dos dois números informados\n",
    "    print(f'Par {i+1} - A soma de {numero1} + {numero2} é {soma(numero1,numero2)}.')\n"
   ]
  },
  {
   "cell_type": "code",
   "execution_count": 10,
   "metadata": {},
   "outputs": [
    {
     "name": "stdout",
     "output_type": "stream",
     "text": [
      "0.0\n",
      "0.0\n",
      "180.0\n",
      "180.0\n",
      "340.56\n",
      "340.56\n",
      "480.98\n",
      "480.98\n"
     ]
    }
   ],
   "source": [
    "#Atividade 02 --------------------\n",
    "#Crie uma função que receba a velocidade da via e a velocidade que o veículo passou\n",
    "#Retorne ao cidadão o valor a ser pago\n",
    "\n",
    "#Cria a função valorMulta\n",
    "def valorMulta(velocVia,velocVeiculo):\n",
    "\n",
    "    vlMulta = -1.0\n",
    "\n",
    "    #Não tomou multa\n",
    "    if (velocVeiculo <= (velocVia * 1.1)):\n",
    "        vlMulta = 0.00\n",
    "\n",
    "    #Multa leve (Excesso entre 10% e 20%)\n",
    "    elif (velocVeiculo > (velocVia * 1.1)) and (velocVeiculo <= (velocVia * 1.2)):\n",
    "        vlMulta = 180.00\n",
    "    \n",
    "    #Multa Média (Excesso entre 20% e 30%)\n",
    "    elif (velocVeiculo > (velocVia * 1.2)) and (velocVeiculo <= (velocVia * 1.3)):\n",
    "        vlMulta = 340.56\n",
    "\n",
    "    #Multa Grave (Excesso acima de 30%)\n",
    "    elif (velocVeiculo > (velocVia * 1.3)):\n",
    "        vlMulta = 480.98\n",
    "    \n",
    "\n",
    "    #Retorna o valor da multa    \n",
    "    return vlMulta\n",
    "\n",
    "\n",
    "#Chama a função e imprime o valor da multa a ser paga\n",
    "print(valorMulta(100,90))\n",
    "print(valorMulta(100,110))\n",
    "print(valorMulta(100,111))\n",
    "print(valorMulta(100,120))\n",
    "print(valorMulta(100,121))\n",
    "print(valorMulta(100,130))\n",
    "print(valorMulta(100,131))\n",
    "print(valorMulta(100,150))\n"
   ]
  },
  {
   "cell_type": "code",
   "execution_count": 28,
   "metadata": {},
   "outputs": [
    {
     "name": "stdout",
     "output_type": "stream",
     "text": [
      "O valor da TMB para o sexo Masculino, peso = 78.63 kg, altura = 1.82 m e idade = 45 anos é 1754.23.\n",
      "O valor da TMB para o sexo Feminino, peso = 78.63 kg, altura = 1.82 m e idade = 45 anos é 1533.32.\n",
      "\n",
      "O valor da TMB para o sexo Masculino, peso = 78.63 kg, altura = 1.57 m e idade = 45 anos é 1629.16.\n",
      "O valor da TMB para o sexo Feminino, peso = 78.63 kg, altura = 1.57 m e idade = 45 anos é 1487.07.\n",
      "\n",
      "O valor da TMB para o sexo Masculino, peso = 78.63 kg, altura = 1.57 m e idade = 25 anos é 1764.26.\n",
      "O valor da TMB para o sexo Feminino, peso = 78.63 kg, altura = 1.57 m e idade = 25 anos é 1580.59.\n"
     ]
    }
   ],
   "source": [
    "#Atividade 03 --------------------\n",
    "\n",
    "#Cria a função para calcular a Taxa Metabólica Basal (TMB)\n",
    "def calcularTMB(pSexo, pPeso, pAltura, pIdade):\n",
    "\n",
    "    valorTMB = 0.00\n",
    "    nomeSexo = ''\n",
    "\n",
    "    match pSexo:\n",
    "        #Sexo Masculino\n",
    "        case 'M':\n",
    "            valorTMB = 66.5 + (13.75 * pPeso) + (5.003 * pAltura) - (6.755 * pIdade)\n",
    "            nomeSexo = 'Masculino'\n",
    "\n",
    "        #Sexo Feminino    \n",
    "        case 'F':\n",
    "            valorTMB = 655.1 + (9.563 * pPeso) + (1.850 * pAltura) - (4.676 * pIdade)\n",
    "            nomeSexo = 'Feminino'\n",
    "\n",
    "    #Imprime o valor da TMB\n",
    "    print(f'O valor da TMB para o sexo {nomeSexo}, peso = {pPeso:.2f} kg, altura = {pAltura / 100} m e idade = {pIdade} anos é {valorTMB:.2f}.')\n",
    "\n",
    "\n",
    "#Chama a função\n",
    "calcularTMB('M', 78.63, 182, 45)\n",
    "calcularTMB('F', 78.63, 182, 45)\n",
    "print('')\n",
    "calcularTMB('M', 78.63, 157, 45)\n",
    "calcularTMB('F', 78.63, 157, 45)\n",
    "print('')\n",
    "calcularTMB('M', 78.63, 157, 25)\n",
    "calcularTMB('F', 78.63, 157, 25)\n"
   ]
  }
 ],
 "metadata": {
  "kernelspec": {
   "display_name": "Python 3",
   "language": "python",
   "name": "python3"
  },
  "language_info": {
   "codemirror_mode": {
    "name": "ipython",
    "version": 3
   },
   "file_extension": ".py",
   "mimetype": "text/x-python",
   "name": "python",
   "nbconvert_exporter": "python",
   "pygments_lexer": "ipython3",
   "version": "3.11.4"
  },
  "orig_nbformat": 4
 },
 "nbformat": 4,
 "nbformat_minor": 2
}
