{
 "cells": [
  {
   "cell_type": "code",
   "execution_count": 1,
   "metadata": {},
   "outputs": [
    {
     "name": "stdout",
     "output_type": "stream",
     "text": [
      "{'João': [10], 'Maria': []}\n"
     ]
    }
   ],
   "source": [
    "alunos = {'João': [], 'Maria': []}          #Cria já com uma lista vazia para poder usar as propriedades da lista\n",
    "n1 = 10\n",
    "alunos['João'].append(n1)\n",
    "print(alunos)"
   ]
  },
  {
   "cell_type": "code",
   "execution_count": 11,
   "metadata": {},
   "outputs": [],
   "source": [
    "#Criar funções\n",
    "def saudacao():\n",
    "    print('Bem vindo ao SENAC!')"
   ]
  },
  {
   "cell_type": "code",
   "execution_count": 12,
   "metadata": {},
   "outputs": [
    {
     "name": "stdout",
     "output_type": "stream",
     "text": [
      "Bem vindo ao SENAC!\n",
      "Bem vindo ao SENAC!\n",
      "None\n"
     ]
    }
   ],
   "source": [
    "saudacao()\n",
    "#print(saudacao())       #No ponto py tem que ser assim"
   ]
  },
  {
   "cell_type": "code",
   "execution_count": 15,
   "metadata": {},
   "outputs": [],
   "source": [
    "#Criar funções com parâmetro\n",
    "def saudacao_parametro(parametro):\n",
    "    print(f'Bem vindo ao SENAC, {parametro}!')"
   ]
  },
  {
   "cell_type": "code",
   "execution_count": 17,
   "metadata": {},
   "outputs": [
    {
     "name": "stdout",
     "output_type": "stream",
     "text": [
      "Bem vindo ao SENAC, NARUTO!\n"
     ]
    }
   ],
   "source": [
    "nome = \"NARUTO\"\n",
    "saudacao_parametro(nome)"
   ]
  },
  {
   "cell_type": "code",
   "execution_count": 18,
   "metadata": {},
   "outputs": [],
   "source": [
    "#Função com retorno\n",
    "def soma(a,b):\n",
    "    return a + b"
   ]
  },
  {
   "cell_type": "code",
   "execution_count": 19,
   "metadata": {},
   "outputs": [
    {
     "name": "stdout",
     "output_type": "stream",
     "text": [
      "25\n"
     ]
    }
   ],
   "source": [
    "resultado = soma(10,15)\n",
    "print(resultado)"
   ]
  }
 ],
 "metadata": {
  "kernelspec": {
   "display_name": "Python 3",
   "language": "python",
   "name": "python3"
  },
  "language_info": {
   "codemirror_mode": {
    "name": "ipython",
    "version": 3
   },
   "file_extension": ".py",
   "mimetype": "text/x-python",
   "name": "python",
   "nbconvert_exporter": "python",
   "pygments_lexer": "ipython3",
   "version": "3.11.4"
  },
  "orig_nbformat": 4
 },
 "nbformat": 4,
 "nbformat_minor": 2
}
