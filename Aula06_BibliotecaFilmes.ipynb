{
 "cells": [
  {
   "cell_type": "markdown",
   "metadata": {},
   "source": [
    "### AULA 06 - Atividade Biblioteca de Filmes"
   ]
  },
  {
   "cell_type": "code",
   "execution_count": 5,
   "metadata": {},
   "outputs": [
    {
     "name": "stdout",
     "output_type": "stream",
     "text": [
      "\n",
      "=== MENU ===\n",
      "1 - ADICIONAR filme\n",
      "2 - REMOVER filme\n",
      "3 - Ver filmes de um usuário\n",
      "4 - Ver todos os usuários\n",
      "0 - SAIR\n",
      "{'Nome': ['Paulo'], 'Filmes': ['Titanic']}\n",
      "\n",
      "=== MENU ===\n",
      "1 - ADICIONAR filme\n",
      "2 - REMOVER filme\n",
      "3 - Ver filmes de um usuário\n",
      "4 - Ver todos os usuários\n",
      "0 - SAIR\n",
      "{'Nome': ['Paulo', 'Paulo'], 'Filmes': ['Titanic', 'F1GP']}\n",
      "\n",
      "=== MENU ===\n",
      "1 - ADICIONAR filme\n",
      "2 - REMOVER filme\n",
      "3 - Ver filmes de um usuário\n",
      "4 - Ver todos os usuários\n",
      "0 - SAIR\n",
      "Valor invalido. Digite um número inteiro.\n",
      "4\n",
      "\n",
      "=== MENU ===\n",
      "1 - ADICIONAR filme\n",
      "2 - REMOVER filme\n",
      "3 - Ver filmes de um usuário\n",
      "4 - Ver todos os usuários\n",
      "0 - SAIR\n"
     ]
    }
   ],
   "source": [
    "#Cria o dicionário\n",
    "usuarios_filmes = {'ADMIN':[]}\n",
    "\n",
    "while True:\n",
    "    print('\\n=== MENU ===')\n",
    "    print('1 - ADICIONAR filme')\n",
    "    print('2 - REMOVER filme')\n",
    "    print('3 - Ver filmes de um usuário')\n",
    "    print('4 - Ver todos os usuários')\n",
    "    print('0 - SAIR')\n",
    "\n",
    "    #Pede ao usuário para digitar uma opção\n",
    "    while True:\n",
    "        try:\n",
    "            opcaoMenu = int(input('Qual a opção escolhida? '))\n",
    "            break\n",
    "        except:\n",
    "            print('Valor invalido. Digite um número inteiro.')\n",
    "    \n",
    "    #Verifica qual a opção escolhida\n",
    "    match opcaoMenu:\n",
    "\n",
    "        case 1:     #Adicionar filme\n",
    "            #Solicita o nome do usuário e o filme\n",
    "            nomeUsuario = input('Digite o nome do usuário: ')\n",
    "            nomeFilme = input('Digite o nome do filme: ')\n",
    "\n",
    "            #Veriica se o usuário já existe\n",
    "            if nomeUsuario in usuarios_filmes:\n",
    "                \n",
    "                #OBS: tem que criar a lista vazia antes\n",
    "\n",
    "                #Inclui o usuário e o filme\n",
    "            \n",
    "            #Se o usuári já existe, só inclui o filme\n",
    "\n",
    "            #Inclui os dados no dicionário\n",
    "            usuarios_filmes['Nome'].append(nomeUsuario)\n",
    "            usuarios_filmes['Filmes'].append(nomeFilme)\n",
    "        \n",
    "            print(usuarios_filmes)\n",
    "        case 2:\n",
    "            print('2')\n",
    "        \n",
    "        case 3:\n",
    "            print('3')\n",
    "        \n",
    "        case 4:\n",
    "            print('4')\n",
    "        \n",
    "        case 0:\n",
    "            print('--- FIM ---')\n",
    "            break\n",
    "        "
   ]
  }
 ],
 "metadata": {
  "kernelspec": {
   "display_name": "Python 3",
   "language": "python",
   "name": "python3"
  },
  "language_info": {
   "codemirror_mode": {
    "name": "ipython",
    "version": 3
   },
   "file_extension": ".py",
   "mimetype": "text/x-python",
   "name": "python",
   "nbconvert_exporter": "python",
   "pygments_lexer": "ipython3",
   "version": "3.11.4"
  },
  "orig_nbformat": 4
 },
 "nbformat": 4,
 "nbformat_minor": 2
}
