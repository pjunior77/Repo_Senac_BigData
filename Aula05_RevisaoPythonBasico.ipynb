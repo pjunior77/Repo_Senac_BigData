{
 "cells": [
  {
   "cell_type": "markdown",
   "metadata": {},
   "source": [
    "### AULA 05 - Revisão Python Básico"
   ]
  },
  {
   "cell_type": "code",
   "execution_count": 1,
   "metadata": {},
   "outputs": [
    {
     "name": "stdout",
     "output_type": "stream",
     "text": [
      "Valor inválido. Digite um número inteiro.\n",
      "Valor inválido. Digite um número inteiro.\n",
      "\n",
      "---------- Resultados do programa ----------\n",
      "Zezinho tem 7 anos e mora em Patolândia.\n",
      "----- FIM -----\n",
      "\n"
     ]
    }
   ],
   "source": [
    "#Atividade 01: Trabalhando com Variáveis\n",
    "#Crie variáveis para armazenar nome, idade e cidade\n",
    "#Exiba essas informações usando print\n",
    "\n",
    "#Solicita as informações\n",
    "nome = input('Qual o seu nome? ')\n",
    "\n",
    "while True:\n",
    "    try:\n",
    "        idade = int(input('Qual a sua idade? '))\n",
    "        break\n",
    "    except:\n",
    "        print('Valor inválido. Digite um número inteiro.')\n",
    "\n",
    "cidade = input('Em que cidade você mora? ')\n",
    "\n",
    "#Imprime os resultados do programa\n",
    "print('\\n---------- Resultados do programa ----------')\n",
    "\n",
    "print(f'{nome} tem {idade} anos e mora em {cidade}.')\n",
    "\n",
    "print('----- FIM -----\\n')\n"
   ]
  },
  {
   "cell_type": "code",
   "execution_count": 4,
   "metadata": {},
   "outputs": [
    {
     "name": "stdout",
     "output_type": "stream",
     "text": [
      "Maior de idade\n",
      "----- FIM -----\n",
      "\n"
     ]
    }
   ],
   "source": [
    "#Atividade 02: Decisões com if\n",
    "#Peça ao usuário uma idade\n",
    "#Verifique se ele é maior de idade e exiba uma mensagem correspondente\n",
    "\n",
    "#Solicita as informações\n",
    "while True:\n",
    "    try:\n",
    "        idade = int(input('Qual a sua idade? '))\n",
    "        break\n",
    "    except:\n",
    "        print('Valor inválido. Digite um número inteiro.')\n",
    "\n",
    "#Verifica se a pessoa é ou não maior de idade e exibe a mensagem correspondente\n",
    "if idade >= 18:\n",
    "    print ('Maior de idade')\n",
    "else:\n",
    "    print ('Menor de idade.')\n",
    "\n",
    "print('----- FIM -----\\n')"
   ]
  },
  {
   "cell_type": "code",
   "execution_count": 7,
   "metadata": {},
   "outputs": [
    {
     "name": "stdout",
     "output_type": "stream",
     "text": [
      "Exibindo os números de 1 a 10:\n",
      "Número: 1\n",
      "Número: 2\n",
      "Número: 3\n",
      "Número: 4\n",
      "Número: 5\n",
      "Número: 6\n",
      "Número: 7\n",
      "Número: 8\n",
      "Número: 9\n",
      "Número: 10\n",
      "\n",
      "Exibindo os números pares de 1 a 10:\n",
      "Número: 2\n",
      "Número: 4\n",
      "Número: 6\n",
      "Número: 8\n",
      "Número: 10\n"
     ]
    }
   ],
   "source": [
    "#Atividade 03: Laço for básico\n",
    "#Exiba os números de 1 a 10 usando for\n",
    "#Exiba apenas os pares\n",
    "\n",
    "print('Exibindo os números de 1 a 10:')\n",
    "for i in range(1,11):\n",
    "    print(f'Número: {i}')\n",
    "\n",
    "print('\\nExibindo os números pares de 1 a 10:')\n",
    "for i in range(2,11,2):\n",
    "    print(f'Número: {i}')\n"
   ]
  },
  {
   "cell_type": "code",
   "execution_count": 1,
   "metadata": {},
   "outputs": [
    {
     "name": "stdout",
     "output_type": "stream",
     "text": [
      "Número: 0\n",
      "Número: 1\n",
      "Número: 2\n",
      "Número: 3\n",
      "Número: 4\n",
      "Número: 5\n"
     ]
    }
   ],
   "source": [
    "#Atividade 04: Laço while básico\n",
    "#Crie um contador que vai de 0 a 5 usando while\n",
    "#Exiba cada valor\n",
    "\n",
    "#Cria o contador\n",
    "contador = 0\n",
    "\n",
    "#Imprime os valores\n",
    "while contador <= 5:\n",
    "    print(f'Número: {contador}')\n",
    "\n",
    "    #Incrementa o contador\n",
    "    contador += 1"
   ]
  },
  {
   "cell_type": "code",
   "execution_count": 17,
   "metadata": {},
   "outputs": [
    {
     "name": "stdout",
     "output_type": "stream",
     "text": [
      "A lista completa de frutas é: ['Maça', 'Pera', 'Uva', 'Laranja', 'Mamão'].\n",
      "A última fruta da lista é: Mamão.\n"
     ]
    }
   ],
   "source": [
    "#Atividade 05: Introdução às Listas\n",
    "#Crie uma lista com 5 frutas\n",
    "#Exiba a lista completa\n",
    "#Mostre apenas a primeira e a última fruta\n",
    "\n",
    "#Cria a lista de frutas\n",
    "listaFrutas = ['Maça','Pera','Uva','Laranja','Mamão']\n",
    "\n",
    "#Imprime a lista completa\n",
    "print(f'A lista completa de frutas é: {listaFrutas}.')\n",
    "\n",
    "#Imprime a última fruta\n",
    "print(f'A última fruta da lista é: {listaFrutas[-1]}.')\n"
   ]
  },
  {
   "cell_type": "code",
   "execution_count": 18,
   "metadata": {},
   "outputs": [
    {
     "name": "stdout",
     "output_type": "stream",
     "text": [
      "Incluido Morango: ['Maça', 'Pera', 'Uva', 'Laranja', 'Mamão', 'Morango'].\n",
      "Removida a Laranja: ['Maça', 'Pera', 'Uva', 'Mamão', 'Morango'].\n",
      "Incluída novamente a Laranja na posição de índice 4: ['Maça', 'Pera', 'Uva', 'Mamão', 'Laranja', 'Morango'].\n"
     ]
    }
   ],
   "source": [
    "#Atividade 06: Modificando Listas\n",
    "#Adicione uma fruta à lista\n",
    "#Remova uma fruta da lista\n",
    "#Substitua uma fruta por outra\n",
    "\n",
    "#Adiciona uma nova fruta ao final da lista de frutas e depois exibe a lista\n",
    "listaFrutas.append('Morango')\n",
    "print(f'Incluido Morango: {listaFrutas}.')\n",
    "\n",
    "#Remove uma fruta da lista e depois exibe a lista\n",
    "listaFrutas.remove('Laranja')\n",
    "print(f'Removida a Laranja: {listaFrutas}.')\n",
    "\n",
    "#Substitui uma fruta por outra na lista de frutas e depois exibe a lista\n",
    "listaFrutas.insert(4,'Laranja')\n",
    "print(f'Incluída novamente a Laranja na posição de índice 4: {listaFrutas}.')"
   ]
  },
  {
   "cell_type": "code",
   "execution_count": 20,
   "metadata": {},
   "outputs": [
    {
     "name": "stdout",
     "output_type": "stream",
     "text": [
      "Olá João, tudo bem?\n",
      "Olá Maria, tudo bem?\n",
      "Olá Florentina, tudo bem?\n",
      "Olá Ludovico, tudo bem?\n",
      "Olá Zezinho, tudo bem?\n"
     ]
    }
   ],
   "source": [
    "#Atividade 07: Listas e Laços\n",
    "#Crie uma lista com 5 nomes\n",
    "#Use for para exibir cada nome com uma saudação\n",
    "\n",
    "#Cria a lista com cinco nomes\n",
    "listaNomes = ['João','Maria','Florentina','Ludovico','Zezinho']\n",
    "\n",
    "#Percorre a lista e imprime os resultados\n",
    "for i in range(len(listaNomes)):\n",
    "    print(f'Olá {listaNomes[i]}, tudo bem?')\n"
   ]
  }
 ],
 "metadata": {
  "kernelspec": {
   "display_name": "Python 3",
   "language": "python",
   "name": "python3"
  },
  "language_info": {
   "codemirror_mode": {
    "name": "ipython",
    "version": 3
   },
   "file_extension": ".py",
   "mimetype": "text/x-python",
   "name": "python",
   "nbconvert_exporter": "python",
   "pygments_lexer": "ipython3",
   "version": "3.11.4"
  },
  "orig_nbformat": 4
 },
 "nbformat": 4,
 "nbformat_minor": 2
}
