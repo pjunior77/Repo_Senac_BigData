{
 "cells": [
  {
   "cell_type": "code",
   "execution_count": 1,
   "id": "49d4e2d3",
   "metadata": {},
   "outputs": [],
   "source": [
    "#Importo as bibliotecas\n",
    "import pandas as pd\n",
    "import numpy as np"
   ]
  },
  {
   "cell_type": "code",
   "execution_count": 2,
   "id": "62a05db1",
   "metadata": {},
   "outputs": [
    {
     "data": {
      "text/html": [
       "<div>\n",
       "<style scoped>\n",
       "    .dataframe tbody tr th:only-of-type {\n",
       "        vertical-align: middle;\n",
       "    }\n",
       "\n",
       "    .dataframe tbody tr th {\n",
       "        vertical-align: top;\n",
       "    }\n",
       "\n",
       "    .dataframe thead th {\n",
       "        text-align: right;\n",
       "    }\n",
       "</style>\n",
       "<table border=\"1\" class=\"dataframe\">\n",
       "  <thead>\n",
       "    <tr style=\"text-align: right;\">\n",
       "      <th></th>\n",
       "      <th>ï»¿Nome</th>\n",
       "      <th>Cargo</th>\n",
       "      <th>Salario</th>\n",
       "      <th>Unnamed: 3</th>\n",
       "      <th>Unnamed: 4</th>\n",
       "      <th>Unnamed: 5</th>\n",
       "      <th>Unnamed: 6</th>\n",
       "      <th>Unnamed: 7</th>\n",
       "    </tr>\n",
       "  </thead>\n",
       "  <tbody>\n",
       "    <tr>\n",
       "      <th>0</th>\n",
       "      <td>Ana Souza</td>\n",
       "      <td>Cientista de Dados</td>\n",
       "      <td>12000</td>\n",
       "      <td>NaN</td>\n",
       "      <td>NaN</td>\n",
       "      <td>NaN</td>\n",
       "      <td>NaN</td>\n",
       "      <td>NaN</td>\n",
       "    </tr>\n",
       "    <tr>\n",
       "      <th>1</th>\n",
       "      <td>Bruno Lima</td>\n",
       "      <td>Engenheiro de Dados</td>\n",
       "      <td>11500</td>\n",
       "      <td>NaN</td>\n",
       "      <td>NaN</td>\n",
       "      <td>NaN</td>\n",
       "      <td>NaN</td>\n",
       "      <td>NaN</td>\n",
       "    </tr>\n",
       "  </tbody>\n",
       "</table>\n",
       "</div>"
      ],
      "text/plain": [
       "      ï»¿Nome                Cargo  Salario  Unnamed: 3  Unnamed: 4  \\\n",
       "0   Ana Souza   Cientista de Dados    12000         NaN         NaN   \n",
       "1  Bruno Lima  Engenheiro de Dados    11500         NaN         NaN   \n",
       "\n",
       "   Unnamed: 5  Unnamed: 6  Unnamed: 7  \n",
       "0         NaN         NaN         NaN  \n",
       "1         NaN         NaN         NaN  "
      ]
     },
     "execution_count": 2,
     "metadata": {},
     "output_type": "execute_result"
    }
   ],
   "source": [
    "#Leio o arquivo e monto a database\n",
    "dfGeral = pd.read_csv('funcionarios_dados_ti.csv', delimiter=';', encoding='latin1')\n",
    "dfGeral.head(2)"
   ]
  },
  {
   "cell_type": "code",
   "execution_count": 3,
   "id": "bc810779",
   "metadata": {},
   "outputs": [
    {
     "data": {
      "text/html": [
       "<div>\n",
       "<style scoped>\n",
       "    .dataframe tbody tr th:only-of-type {\n",
       "        vertical-align: middle;\n",
       "    }\n",
       "\n",
       "    .dataframe tbody tr th {\n",
       "        vertical-align: top;\n",
       "    }\n",
       "\n",
       "    .dataframe thead th {\n",
       "        text-align: right;\n",
       "    }\n",
       "</style>\n",
       "<table border=\"1\" class=\"dataframe\">\n",
       "  <thead>\n",
       "    <tr style=\"text-align: right;\">\n",
       "      <th></th>\n",
       "      <th>ï»¿Nome</th>\n",
       "      <th>Cargo</th>\n",
       "      <th>Salario</th>\n",
       "    </tr>\n",
       "  </thead>\n",
       "  <tbody>\n",
       "    <tr>\n",
       "      <th>0</th>\n",
       "      <td>Ana Souza</td>\n",
       "      <td>Cientista de Dados</td>\n",
       "      <td>12000</td>\n",
       "    </tr>\n",
       "    <tr>\n",
       "      <th>1</th>\n",
       "      <td>Bruno Lima</td>\n",
       "      <td>Engenheiro de Dados</td>\n",
       "      <td>11500</td>\n",
       "    </tr>\n",
       "  </tbody>\n",
       "</table>\n",
       "</div>"
      ],
      "text/plain": [
       "      ï»¿Nome                Cargo  Salario\n",
       "0   Ana Souza   Cientista de Dados    12000\n",
       "1  Bruno Lima  Engenheiro de Dados    11500"
      ]
     },
     "execution_count": 3,
     "metadata": {},
     "output_type": "execute_result"
    }
   ],
   "source": [
    "#Apaga as colunas sem valor\n",
    "dfGeral.drop(columns=['Unnamed: 3', 'Unnamed: 4', 'Unnamed: 5', 'Unnamed: 6', 'Unnamed: 7'],inplace=True)\n",
    "dfGeral.head(2)"
   ]
  },
  {
   "cell_type": "code",
   "execution_count": 4,
   "id": "b9c1b987",
   "metadata": {},
   "outputs": [
    {
     "data": {
      "text/plain": [
       "array([12000, 11500, 10500, 13000,  9800, 13500, 11800, 10200, 10800,\n",
       "       14000, 12500,  9700, 11000, 10100, 10900, 13200, 14500, 11900,\n",
       "        9900, 12700])"
      ]
     },
     "execution_count": 4,
     "metadata": {},
     "output_type": "execute_result"
    }
   ],
   "source": [
    "#Crio o array com os valores da coluna salário\n",
    "array_salarios = np.array(dfGeral[\"Salario\"])\n",
    "array_salarios"
   ]
  },
  {
   "cell_type": "code",
   "execution_count": 5,
   "id": "a3fa48f6",
   "metadata": {},
   "outputs": [
    {
     "name": "stdout",
     "output_type": "stream",
     "text": [
      "Média = 11675.00\n"
     ]
    }
   ],
   "source": [
    "#Calculo a média\n",
    "mediaSalarios = np.mean(array_salarios)\n",
    "print(f'Média = {mediaSalarios:.2f}')"
   ]
  },
  {
   "cell_type": "code",
   "execution_count": 6,
   "id": "10fdd427",
   "metadata": {},
   "outputs": [
    {
     "name": "stdout",
     "output_type": "stream",
     "text": [
      "Mediana = 11650.00\n"
     ]
    }
   ],
   "source": [
    "#Calculo a mediana\n",
    "medianaSalarios = np.median(array_salarios)\n",
    "print(f'Mediana = {medianaSalarios:.2f}')"
   ]
  },
  {
   "cell_type": "code",
   "execution_count": 7,
   "id": "61faf655",
   "metadata": {},
   "outputs": [
    {
     "name": "stdout",
     "output_type": "stream",
     "text": [
      "Distância relativa dos salários = 0.2145922746781116 %\n",
      "Distância relativa dos salários = 0.21 %\n"
     ]
    }
   ],
   "source": [
    "#Calculo a distância relativa\n",
    "distanciaRelativaSalarios = (mediaSalarios - medianaSalarios) / medianaSalarios\n",
    "print(f'Distância relativa dos salários = {distanciaRelativaSalarios * 100} %')             #Resultado em porcentagem\n",
    "print(f'Distância relativa dos salários = {round(distanciaRelativaSalarios * 100, 2)} %')   #Resultado em porcentagem"
   ]
  },
  {
   "cell_type": "code",
   "execution_count": null,
   "id": "0211a495",
   "metadata": {},
   "outputs": [],
   "source": [
    "################################################################################\n",
    "#RESULTADO:\n",
    "#O resultado da média é confiável, pois a distância calculada é de apenas 0,21%.\n",
    "#Nesse caso, a média sofre pouca influência de valores extremos para baixo!\n",
    "################################################################################"
   ]
  }
 ],
 "metadata": {
  "kernelspec": {
   "display_name": "Python 3",
   "language": "python",
   "name": "python3"
  },
  "language_info": {
   "codemirror_mode": {
    "name": "ipython",
    "version": 3
   },
   "file_extension": ".py",
   "mimetype": "text/x-python",
   "name": "python",
   "nbconvert_exporter": "python",
   "pygments_lexer": "ipython3",
   "version": "3.13.7"
  }
 },
 "nbformat": 4,
 "nbformat_minor": 5
}
